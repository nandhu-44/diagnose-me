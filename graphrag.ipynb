{
  "nbformat": 4,
  "nbformat_minor": 0,
  "metadata": {
    "colab": {
      "provenance": [],
      "authorship_tag": "ABX9TyO/3+SJILwOe3iqhb07Kh79"
    },
    "kernelspec": {
      "name": "python3",
      "display_name": "Python 3"
    },
    "language_info": {
      "name": "python"
    }
  },
  "cells": [
    {
      "cell_type": "code",
      "execution_count": 1,
      "metadata": {
        "colab": {
          "base_uri": "https://localhost:8080/",
          "height": 1000
        },
        "id": "rwkauLqQT3pC",
        "outputId": "e064f840-6dd5-4406-d6e6-2638b20c8b2d"
      },
      "outputs": [
        {
          "output_type": "stream",
          "name": "stdout",
          "text": [
            "Requirement already satisfied: langchain in /usr/local/lib/python3.11/dist-packages (0.3.20)\n",
            "Collecting langchain-community\n",
            "  Downloading langchain_community-0.3.20-py3-none-any.whl.metadata (2.4 kB)\n",
            "Collecting langchain-experimental\n",
            "  Downloading langchain_experimental-0.3.4-py3-none-any.whl.metadata (1.7 kB)\n",
            "Collecting langchain-google-genai\n",
            "  Downloading langchain_google_genai-2.1.1-py3-none-any.whl.metadata (4.7 kB)\n",
            "Collecting neo4j\n",
            "  Downloading neo4j-5.28.1-py3-none-any.whl.metadata (5.9 kB)\n",
            "Requirement already satisfied: langchain-core<1.0.0,>=0.3.41 in /usr/local/lib/python3.11/dist-packages (from langchain) (0.3.45)\n",
            "Requirement already satisfied: langchain-text-splitters<1.0.0,>=0.3.6 in /usr/local/lib/python3.11/dist-packages (from langchain) (0.3.6)\n",
            "Requirement already satisfied: langsmith<0.4,>=0.1.17 in /usr/local/lib/python3.11/dist-packages (from langchain) (0.3.15)\n",
            "Requirement already satisfied: pydantic<3.0.0,>=2.7.4 in /usr/local/lib/python3.11/dist-packages (from langchain) (2.10.6)\n",
            "Requirement already satisfied: SQLAlchemy<3,>=1.4 in /usr/local/lib/python3.11/dist-packages (from langchain) (2.0.39)\n",
            "Requirement already satisfied: requests<3,>=2 in /usr/local/lib/python3.11/dist-packages (from langchain) (2.32.3)\n",
            "Requirement already satisfied: PyYAML>=5.3 in /usr/local/lib/python3.11/dist-packages (from langchain) (6.0.2)\n",
            "Collecting langchain\n",
            "  Downloading langchain-0.3.21-py3-none-any.whl.metadata (7.8 kB)\n",
            "Requirement already satisfied: aiohttp<4.0.0,>=3.8.3 in /usr/local/lib/python3.11/dist-packages (from langchain-community) (3.11.14)\n",
            "Requirement already satisfied: tenacity!=8.4.0,<10,>=8.1.0 in /usr/local/lib/python3.11/dist-packages (from langchain-community) (9.0.0)\n",
            "Collecting dataclasses-json<0.7,>=0.5.7 (from langchain-community)\n",
            "  Downloading dataclasses_json-0.6.7-py3-none-any.whl.metadata (25 kB)\n",
            "Collecting pydantic-settings<3.0.0,>=2.4.0 (from langchain-community)\n",
            "  Downloading pydantic_settings-2.8.1-py3-none-any.whl.metadata (3.5 kB)\n",
            "Collecting httpx-sse<1.0.0,>=0.4.0 (from langchain-community)\n",
            "  Downloading httpx_sse-0.4.0-py3-none-any.whl.metadata (9.0 kB)\n",
            "Requirement already satisfied: numpy<3,>=1.26.2 in /usr/local/lib/python3.11/dist-packages (from langchain-community) (2.0.2)\n",
            "Collecting langchain-text-splitters<1.0.0,>=0.3.7 (from langchain)\n",
            "  Downloading langchain_text_splitters-0.3.7-py3-none-any.whl.metadata (1.9 kB)\n",
            "Collecting filetype<2.0.0,>=1.2.0 (from langchain-google-genai)\n",
            "  Downloading filetype-1.2.0-py2.py3-none-any.whl.metadata (6.5 kB)\n",
            "Collecting google-ai-generativelanguage<0.7.0,>=0.6.16 (from langchain-google-genai)\n",
            "  Downloading google_ai_generativelanguage-0.6.17-py3-none-any.whl.metadata (9.8 kB)\n",
            "Collecting langchain-core<1.0.0,>=0.3.45 (from langchain-community)\n",
            "  Downloading langchain_core-0.3.47-py3-none-any.whl.metadata (5.9 kB)\n",
            "Requirement already satisfied: pytz in /usr/local/lib/python3.11/dist-packages (from neo4j) (2025.1)\n",
            "Requirement already satisfied: aiohappyeyeballs>=2.3.0 in /usr/local/lib/python3.11/dist-packages (from aiohttp<4.0.0,>=3.8.3->langchain-community) (2.6.1)\n",
            "Requirement already satisfied: aiosignal>=1.1.2 in /usr/local/lib/python3.11/dist-packages (from aiohttp<4.0.0,>=3.8.3->langchain-community) (1.3.2)\n",
            "Requirement already satisfied: attrs>=17.3.0 in /usr/local/lib/python3.11/dist-packages (from aiohttp<4.0.0,>=3.8.3->langchain-community) (25.3.0)\n",
            "Requirement already satisfied: frozenlist>=1.1.1 in /usr/local/lib/python3.11/dist-packages (from aiohttp<4.0.0,>=3.8.3->langchain-community) (1.5.0)\n",
            "Requirement already satisfied: multidict<7.0,>=4.5 in /usr/local/lib/python3.11/dist-packages (from aiohttp<4.0.0,>=3.8.3->langchain-community) (6.2.0)\n",
            "Requirement already satisfied: propcache>=0.2.0 in /usr/local/lib/python3.11/dist-packages (from aiohttp<4.0.0,>=3.8.3->langchain-community) (0.3.0)\n",
            "Requirement already satisfied: yarl<2.0,>=1.17.0 in /usr/local/lib/python3.11/dist-packages (from aiohttp<4.0.0,>=3.8.3->langchain-community) (1.18.3)\n",
            "Collecting marshmallow<4.0.0,>=3.18.0 (from dataclasses-json<0.7,>=0.5.7->langchain-community)\n",
            "  Downloading marshmallow-3.26.1-py3-none-any.whl.metadata (7.3 kB)\n",
            "Collecting typing-inspect<1,>=0.4.0 (from dataclasses-json<0.7,>=0.5.7->langchain-community)\n",
            "  Downloading typing_inspect-0.9.0-py3-none-any.whl.metadata (1.5 kB)\n",
            "Requirement already satisfied: google-api-core!=2.0.*,!=2.1.*,!=2.10.*,!=2.2.*,!=2.3.*,!=2.4.*,!=2.5.*,!=2.6.*,!=2.7.*,!=2.8.*,!=2.9.*,<3.0.0,>=1.34.1 in /usr/local/lib/python3.11/dist-packages (from google-api-core[grpc]!=2.0.*,!=2.1.*,!=2.10.*,!=2.2.*,!=2.3.*,!=2.4.*,!=2.5.*,!=2.6.*,!=2.7.*,!=2.8.*,!=2.9.*,<3.0.0,>=1.34.1->google-ai-generativelanguage<0.7.0,>=0.6.16->langchain-google-genai) (2.24.2)\n",
            "Requirement already satisfied: google-auth!=2.24.0,!=2.25.0,<3.0.0,>=2.14.1 in /usr/local/lib/python3.11/dist-packages (from google-ai-generativelanguage<0.7.0,>=0.6.16->langchain-google-genai) (2.38.0)\n",
            "Requirement already satisfied: proto-plus<2.0.0,>=1.22.3 in /usr/local/lib/python3.11/dist-packages (from google-ai-generativelanguage<0.7.0,>=0.6.16->langchain-google-genai) (1.26.1)\n",
            "Requirement already satisfied: protobuf!=4.21.0,!=4.21.1,!=4.21.2,!=4.21.3,!=4.21.4,!=4.21.5,<7.0.0,>=3.20.2 in /usr/local/lib/python3.11/dist-packages (from google-ai-generativelanguage<0.7.0,>=0.6.16->langchain-google-genai) (5.29.3)\n",
            "Requirement already satisfied: jsonpatch<2.0,>=1.33 in /usr/local/lib/python3.11/dist-packages (from langchain-core<1.0.0,>=0.3.45->langchain-community) (1.33)\n",
            "Requirement already satisfied: packaging<25,>=23.2 in /usr/local/lib/python3.11/dist-packages (from langchain-core<1.0.0,>=0.3.45->langchain-community) (24.2)\n",
            "Requirement already satisfied: typing-extensions>=4.7 in /usr/local/lib/python3.11/dist-packages (from langchain-core<1.0.0,>=0.3.45->langchain-community) (4.12.2)\n",
            "Requirement already satisfied: httpx<1,>=0.23.0 in /usr/local/lib/python3.11/dist-packages (from langsmith<0.4,>=0.1.17->langchain) (0.28.1)\n",
            "Requirement already satisfied: orjson<4.0.0,>=3.9.14 in /usr/local/lib/python3.11/dist-packages (from langsmith<0.4,>=0.1.17->langchain) (3.10.15)\n",
            "Requirement already satisfied: requests-toolbelt<2.0.0,>=1.0.0 in /usr/local/lib/python3.11/dist-packages (from langsmith<0.4,>=0.1.17->langchain) (1.0.0)\n",
            "Requirement already satisfied: zstandard<0.24.0,>=0.23.0 in /usr/local/lib/python3.11/dist-packages (from langsmith<0.4,>=0.1.17->langchain) (0.23.0)\n",
            "Requirement already satisfied: annotated-types>=0.6.0 in /usr/local/lib/python3.11/dist-packages (from pydantic<3.0.0,>=2.7.4->langchain) (0.7.0)\n",
            "Requirement already satisfied: pydantic-core==2.27.2 in /usr/local/lib/python3.11/dist-packages (from pydantic<3.0.0,>=2.7.4->langchain) (2.27.2)\n",
            "Collecting python-dotenv>=0.21.0 (from pydantic-settings<3.0.0,>=2.4.0->langchain-community)\n",
            "  Downloading python_dotenv-1.0.1-py3-none-any.whl.metadata (23 kB)\n",
            "Requirement already satisfied: charset-normalizer<4,>=2 in /usr/local/lib/python3.11/dist-packages (from requests<3,>=2->langchain) (3.4.1)\n",
            "Requirement already satisfied: idna<4,>=2.5 in /usr/local/lib/python3.11/dist-packages (from requests<3,>=2->langchain) (3.10)\n",
            "Requirement already satisfied: urllib3<3,>=1.21.1 in /usr/local/lib/python3.11/dist-packages (from requests<3,>=2->langchain) (2.3.0)\n",
            "Requirement already satisfied: certifi>=2017.4.17 in /usr/local/lib/python3.11/dist-packages (from requests<3,>=2->langchain) (2025.1.31)\n",
            "Requirement already satisfied: greenlet!=0.4.17 in /usr/local/lib/python3.11/dist-packages (from SQLAlchemy<3,>=1.4->langchain) (3.1.1)\n",
            "Requirement already satisfied: googleapis-common-protos<2.0.0,>=1.56.2 in /usr/local/lib/python3.11/dist-packages (from google-api-core!=2.0.*,!=2.1.*,!=2.10.*,!=2.2.*,!=2.3.*,!=2.4.*,!=2.5.*,!=2.6.*,!=2.7.*,!=2.8.*,!=2.9.*,<3.0.0,>=1.34.1->google-api-core[grpc]!=2.0.*,!=2.1.*,!=2.10.*,!=2.2.*,!=2.3.*,!=2.4.*,!=2.5.*,!=2.6.*,!=2.7.*,!=2.8.*,!=2.9.*,<3.0.0,>=1.34.1->google-ai-generativelanguage<0.7.0,>=0.6.16->langchain-google-genai) (1.69.2)\n",
            "Requirement already satisfied: grpcio<2.0dev,>=1.33.2 in /usr/local/lib/python3.11/dist-packages (from google-api-core[grpc]!=2.0.*,!=2.1.*,!=2.10.*,!=2.2.*,!=2.3.*,!=2.4.*,!=2.5.*,!=2.6.*,!=2.7.*,!=2.8.*,!=2.9.*,<3.0.0,>=1.34.1->google-ai-generativelanguage<0.7.0,>=0.6.16->langchain-google-genai) (1.71.0)\n",
            "Requirement already satisfied: grpcio-status<2.0.dev0,>=1.33.2 in /usr/local/lib/python3.11/dist-packages (from google-api-core[grpc]!=2.0.*,!=2.1.*,!=2.10.*,!=2.2.*,!=2.3.*,!=2.4.*,!=2.5.*,!=2.6.*,!=2.7.*,!=2.8.*,!=2.9.*,<3.0.0,>=1.34.1->google-ai-generativelanguage<0.7.0,>=0.6.16->langchain-google-genai) (1.71.0)\n",
            "Requirement already satisfied: cachetools<6.0,>=2.0.0 in /usr/local/lib/python3.11/dist-packages (from google-auth!=2.24.0,!=2.25.0,<3.0.0,>=2.14.1->google-ai-generativelanguage<0.7.0,>=0.6.16->langchain-google-genai) (5.5.2)\n",
            "Requirement already satisfied: pyasn1-modules>=0.2.1 in /usr/local/lib/python3.11/dist-packages (from google-auth!=2.24.0,!=2.25.0,<3.0.0,>=2.14.1->google-ai-generativelanguage<0.7.0,>=0.6.16->langchain-google-genai) (0.4.1)\n",
            "Requirement already satisfied: rsa<5,>=3.1.4 in /usr/local/lib/python3.11/dist-packages (from google-auth!=2.24.0,!=2.25.0,<3.0.0,>=2.14.1->google-ai-generativelanguage<0.7.0,>=0.6.16->langchain-google-genai) (4.9)\n",
            "Requirement already satisfied: anyio in /usr/local/lib/python3.11/dist-packages (from httpx<1,>=0.23.0->langsmith<0.4,>=0.1.17->langchain) (4.9.0)\n",
            "Requirement already satisfied: httpcore==1.* in /usr/local/lib/python3.11/dist-packages (from httpx<1,>=0.23.0->langsmith<0.4,>=0.1.17->langchain) (1.0.7)\n",
            "Requirement already satisfied: h11<0.15,>=0.13 in /usr/local/lib/python3.11/dist-packages (from httpcore==1.*->httpx<1,>=0.23.0->langsmith<0.4,>=0.1.17->langchain) (0.14.0)\n",
            "Requirement already satisfied: jsonpointer>=1.9 in /usr/local/lib/python3.11/dist-packages (from jsonpatch<2.0,>=1.33->langchain-core<1.0.0,>=0.3.45->langchain-community) (3.0.0)\n",
            "Collecting mypy-extensions>=0.3.0 (from typing-inspect<1,>=0.4.0->dataclasses-json<0.7,>=0.5.7->langchain-community)\n",
            "  Downloading mypy_extensions-1.0.0-py3-none-any.whl.metadata (1.1 kB)\n",
            "Requirement already satisfied: pyasn1<0.7.0,>=0.4.6 in /usr/local/lib/python3.11/dist-packages (from pyasn1-modules>=0.2.1->google-auth!=2.24.0,!=2.25.0,<3.0.0,>=2.14.1->google-ai-generativelanguage<0.7.0,>=0.6.16->langchain-google-genai) (0.6.1)\n",
            "Requirement already satisfied: sniffio>=1.1 in /usr/local/lib/python3.11/dist-packages (from anyio->httpx<1,>=0.23.0->langsmith<0.4,>=0.1.17->langchain) (1.3.1)\n",
            "Downloading langchain_community-0.3.20-py3-none-any.whl (2.5 MB)\n",
            "\u001b[2K   \u001b[90m━━━━━━━━━━━━━━━━━━━━━━━━━━━━━━━━━━━━━━━━\u001b[0m \u001b[32m2.5/2.5 MB\u001b[0m \u001b[31m29.1 MB/s\u001b[0m eta \u001b[36m0:00:00\u001b[0m\n",
            "\u001b[?25hDownloading langchain-0.3.21-py3-none-any.whl (1.0 MB)\n",
            "\u001b[2K   \u001b[90m━━━━━━━━━━━━━━━━━━━━━━━━━━━━━━━━━━━━━━━━\u001b[0m \u001b[32m1.0/1.0 MB\u001b[0m \u001b[31m27.5 MB/s\u001b[0m eta \u001b[36m0:00:00\u001b[0m\n",
            "\u001b[?25hDownloading langchain_experimental-0.3.4-py3-none-any.whl (209 kB)\n",
            "\u001b[2K   \u001b[90m━━━━━━━━━━━━━━━━━━━━━━━━━━━━━━━━━━━━━━━━\u001b[0m \u001b[32m209.2/209.2 kB\u001b[0m \u001b[31m10.8 MB/s\u001b[0m eta \u001b[36m0:00:00\u001b[0m\n",
            "\u001b[?25hDownloading langchain_google_genai-2.1.1-py3-none-any.whl (40 kB)\n",
            "\u001b[2K   \u001b[90m━━━━━━━━━━━━━━━━━━━━━━━━━━━━━━━━━━━━━━━━\u001b[0m \u001b[32m40.8/40.8 kB\u001b[0m \u001b[31m2.3 MB/s\u001b[0m eta \u001b[36m0:00:00\u001b[0m\n",
            "\u001b[?25hDownloading neo4j-5.28.1-py3-none-any.whl (312 kB)\n",
            "\u001b[2K   \u001b[90m━━━━━━━━━━━━━━━━━━━━━━━━━━━━━━━━━━━━━━━━\u001b[0m \u001b[32m312.3/312.3 kB\u001b[0m \u001b[31m15.0 MB/s\u001b[0m eta \u001b[36m0:00:00\u001b[0m\n",
            "\u001b[?25hDownloading dataclasses_json-0.6.7-py3-none-any.whl (28 kB)\n",
            "Downloading filetype-1.2.0-py2.py3-none-any.whl (19 kB)\n",
            "Downloading google_ai_generativelanguage-0.6.17-py3-none-any.whl (1.4 MB)\n",
            "\u001b[2K   \u001b[90m━━━━━━━━━━━━━━━━━━━━━━━━━━━━━━━━━━━━━━━━\u001b[0m \u001b[32m1.4/1.4 MB\u001b[0m \u001b[31m18.6 MB/s\u001b[0m eta \u001b[36m0:00:00\u001b[0m\n",
            "\u001b[?25hDownloading httpx_sse-0.4.0-py3-none-any.whl (7.8 kB)\n",
            "Downloading langchain_core-0.3.47-py3-none-any.whl (417 kB)\n",
            "\u001b[2K   \u001b[90m━━━━━━━━━━━━━━━━━━━━━━━━━━━━━━━━━━━━━━━━\u001b[0m \u001b[32m417.1/417.1 kB\u001b[0m \u001b[31m21.8 MB/s\u001b[0m eta \u001b[36m0:00:00\u001b[0m\n",
            "\u001b[?25hDownloading langchain_text_splitters-0.3.7-py3-none-any.whl (32 kB)\n",
            "Downloading pydantic_settings-2.8.1-py3-none-any.whl (30 kB)\n",
            "Downloading marshmallow-3.26.1-py3-none-any.whl (50 kB)\n",
            "\u001b[2K   \u001b[90m━━━━━━━━━━━━━━━━━━━━━━━━━━━━━━━━━━━━━━━━\u001b[0m \u001b[32m50.9/50.9 kB\u001b[0m \u001b[31m2.6 MB/s\u001b[0m eta \u001b[36m0:00:00\u001b[0m\n",
            "\u001b[?25hDownloading python_dotenv-1.0.1-py3-none-any.whl (19 kB)\n",
            "Downloading typing_inspect-0.9.0-py3-none-any.whl (8.8 kB)\n",
            "Downloading mypy_extensions-1.0.0-py3-none-any.whl (4.7 kB)\n",
            "Installing collected packages: filetype, python-dotenv, neo4j, mypy-extensions, marshmallow, httpx-sse, typing-inspect, pydantic-settings, dataclasses-json, langchain-core, langchain-text-splitters, google-ai-generativelanguage, langchain-google-genai, langchain, langchain-community, langchain-experimental\n",
            "  Attempting uninstall: langchain-core\n",
            "    Found existing installation: langchain-core 0.3.45\n",
            "    Uninstalling langchain-core-0.3.45:\n",
            "      Successfully uninstalled langchain-core-0.3.45\n",
            "  Attempting uninstall: langchain-text-splitters\n",
            "    Found existing installation: langchain-text-splitters 0.3.6\n",
            "    Uninstalling langchain-text-splitters-0.3.6:\n",
            "      Successfully uninstalled langchain-text-splitters-0.3.6\n",
            "  Attempting uninstall: google-ai-generativelanguage\n",
            "    Found existing installation: google-ai-generativelanguage 0.6.15\n",
            "    Uninstalling google-ai-generativelanguage-0.6.15:\n",
            "      Successfully uninstalled google-ai-generativelanguage-0.6.15\n",
            "  Attempting uninstall: langchain\n",
            "    Found existing installation: langchain 0.3.20\n",
            "    Uninstalling langchain-0.3.20:\n",
            "      Successfully uninstalled langchain-0.3.20\n",
            "\u001b[31mERROR: pip's dependency resolver does not currently take into account all the packages that are installed. This behaviour is the source of the following dependency conflicts.\n",
            "google-generativeai 0.8.4 requires google-ai-generativelanguage==0.6.15, but you have google-ai-generativelanguage 0.6.17 which is incompatible.\u001b[0m\u001b[31m\n",
            "\u001b[0mSuccessfully installed dataclasses-json-0.6.7 filetype-1.2.0 google-ai-generativelanguage-0.6.17 httpx-sse-0.4.0 langchain-0.3.21 langchain-community-0.3.20 langchain-core-0.3.47 langchain-experimental-0.3.4 langchain-google-genai-2.1.1 langchain-text-splitters-0.3.7 marshmallow-3.26.1 mypy-extensions-1.0.0 neo4j-5.28.1 pydantic-settings-2.8.1 python-dotenv-1.0.1 typing-inspect-0.9.0\n"
          ]
        },
        {
          "output_type": "display_data",
          "data": {
            "application/vnd.colab-display-data+json": {
              "pip_warning": {
                "packages": [
                  "google"
                ]
              },
              "id": "d47c1921d850418f915e8d96f9fe46a3"
            }
          },
          "metadata": {}
        }
      ],
      "source": [
        "!pip install langchain langchain-community langchain-experimental langchain-google-genai neo4j"
      ]
    },
    {
      "cell_type": "code",
      "source": [
        "import os\n",
        "from langchain_community.graphs import Neo4jGraph\n",
        "from langchain_experimental.graph_transformers import LLMGraphTransformer\n",
        "from langchain_google_genai import ChatGoogleGenerativeAI\n",
        "from langchain_core.documents import Document"
      ],
      "metadata": {
        "id": "7X7lD7lwUrIl"
      },
      "execution_count": 1,
      "outputs": []
    },
    {
      "cell_type": "code",
      "source": [],
      "metadata": {
        "id": "tYnt_Cz8VmAT"
      },
      "execution_count": 2,
      "outputs": []
    },
    {
      "cell_type": "code",
      "source": [
        "llm = ChatGoogleGenerativeAI(\n",
        "    model=\"gemini-1.5-pro\",\n",
        "    google_api_key=\"\",\n",
        "    temperature=0,\n",
        "    max_tokens=None,\n",
        "    timeout=None,\n",
        "    max_retries=2,\n",
        ")\n",
        "llmtransformer = LLMGraphTransformer(llm=llm)"
      ],
      "metadata": {
        "id": "Xj7WSSOIWC0X"
      },
      "execution_count": null,
      "outputs": []
    },
    {
      "cell_type": "code",
      "source": [
        "llm_add = ChatGoogleGenerativeAI(\n",
        "    model=\"models/gemini-1.5-flash\",\n",
        "    google_api_key=\"\",\n",
        "    temperature=0,\n",
        "    allow_dangerous_requests=True,\n",
        "    system_message=\"\"\"You are a specialized assistant for generating Neo4j Cypher queries to ADD or UPDATE medical data in a database.\n",
        "\n",
        "The database contains the following entity types:\n",
        "- Body_part, Brain_region, Device, Disease, Medical_condition, Medical_finding, Medical_procedure\n",
        "- Medical_record, Medication, Metric, Nutrition, Patient, Person, Place, Procedure, Symptom\n",
        "\n",
        "And relationships between entities such as:\n",
        "- ADMITTED_TO, ASSISTED, ASSISTED_IN, CHILD_OF, CONNECTED_TO, DIAGNOSED_WITH\n",
        "- DONOR_FOR, FED_WITH, FOLLOWING, HAS_CONDITION, HAS_FINDING, HAS_HISTORY_OF\n",
        "- HAS_MEDICAL_HISTORY, HAS_PROCEDURE, HAS_SURGICAL_HISTORY, HAS_SYMPTOM\n",
        "- HOSPITAL_COMPLICATION, HOSPITAL_DIAGNOSIS, LIKELY, LOCATION_OF, PERFORMED\n",
        "- POSSIBLE_FINDING, REASON_FOR_ADMISSION, RECEIVED, RECEIVED_PROCEDURE\n",
        "- SECONDARY_TO, SUSPECTED_DIAGNOSIS, TRANSFERRED_FROM, TRANSFERRED_TO, UNDERWENT\n",
        "\n",
        "When a user provides information, generate Cypher queries to:\n",
        "1. CREATE new nodes with appropriate labels and properties\n",
        "2. MERGE existing nodes when appropriate to avoid duplicates\n",
        "3. CREATE relationships between nodes with correct relationship types\n",
        "4. UPDATE properties of existing nodes when new information is provided\n",
        "\n",
        "Always generate complete, executable Cypher queries with proper syntax for adding data to the Neo4j database.\n",
        "\"\"\"\n",
        ")\n",
        "llmtransformer = LLMGraphTransformer(llm=llm_add)"
      ],
      "metadata": {
        "id": "GbtJlwwlu7dh"
      },
      "execution_count": 3,
      "outputs": []
    },
    {
      "cell_type": "code",
      "source": [
        "llm_query = ChatGoogleGenerativeAI(\n",
        "    model=\"models/gemini-1.5-flash\",\n",
        "    google_api_key=\"\",\n",
        "    temperature=0,\n",
        "    allow_dangerous_requests=True,\n",
        "    system_message=\"\"\"use below query to get the response from the graph database no need to specify name or anything just use it as is\n",
        "        MATCH (source)-[relationship]->(target)\n",
        "        RETURN source.name as Source, type(relationship) as Relationship, target.name as Target\"\"\",\n",
        ")\n"
      ],
      "metadata": {
        "id": "_S5oOUQxuFYM"
      },
      "execution_count": 42,
      "outputs": []
    },
    {
      "cell_type": "code",
      "source": [
        "graph = Neo4jGraph()"
      ],
      "metadata": {
        "id": "ph-w-yoQWOVs",
        "colab": {
          "base_uri": "https://localhost:8080/"
        },
        "outputId": "ec82e6d3-929b-4df6-de05-98308d1a38ff"
      },
      "execution_count": 4,
      "outputs": [
        {
          "output_type": "stream",
          "name": "stderr",
          "text": [
            "<ipython-input-4-6e7385464d00>:1: LangChainDeprecationWarning: The class `Neo4jGraph` was deprecated in LangChain 0.3.8 and will be removed in 1.0. An updated version of the class exists in the :class:`~langchain-neo4j package and should be used instead. To use it run `pip install -U :class:`~langchain-neo4j` and import as `from :class:`~langchain_neo4j import Neo4jGraph``.\n",
            "  graph = Neo4jGraph()\n"
          ]
        }
      ]
    },
    {
      "cell_type": "code",
      "source": [
        "text = \"\"\"    mr. is a 72-year-old male with a past medical history significant for pancreatic cancer, ulcerative colitis, hypertension, status post endoscopic retrograde cholangiopancreatography, and status post total abdominal colectomy 20 years ago with an end-ileostomy. the patient underwent an endoscopic retrograde cholangiopancreatography recently, but a stent was unable to be placed. a computed tomography was performed which demonstrated a head of the pancreas mass with dilated intrahepatic duct along with vascular involvement of the gastroduodenal artery and superior mesenteric vein. he presented for exploratory laparotomy with possible pancreatic mass resection. past medical history: 1. ulcerative colitis. 2. hypertension. 3. benign prostatic hypertrophy. past surgical history: 1. total abdominal colectomy with end-ileostomy. 2. status post transurethral resection of prostate. medications on admission: 1. moexipril 15 mg by mouth once per day. 2. aspirin 81 mg by mouth once per day. 3. atenolol 25 mg by mouth once per day. 4. allopurinol 300 mg by mouth once per day. 5. multivitamin. allergies: the patient has no known drug allergies. physical examination on presentation: the patient is a thin, cachectic caucasian male who was alert and oriented times three. in no apparent distress. the sclerae were anicteric. the patient was jaundiced. the oropharynx was clear with moist mucous membranes. the neck was supple and without lymphadenopathy. the heart was regular in rate and rhythm. the lungs were clear to auscultation bilaterally. the abdomen was soft, nontender, and nondistended. there was a well-healed midline scar and ileostomy present. the extremities were warm without cyanosis, clubbing, or edema. pertinent laboratory values on presentation: his hematocrit was 43.2. his inr was 1.2. creatinine was 1.6. aspartate aminotransferase was 51, his alanine-aminotransferase was 89, his alkaline phosphatase was 395, and his total bilirubin was 12.5. brief summary of hospital course: on the day of admission, the patient was taken to the operating room where an exploratory laparotomy was performed. the patient had evidence of unresectable pancreatic cancer with biliary obstruction seen intraoperatively. adhesiolysis was therefore performed along with a roux-en-y hepaticojejunostomy, and open cholecystectomy, an open pancreatic biopsy, and a gastrojejunostomy. the estimated blood loss for the procedure was 250 cc. the patient was discharged to the regular hospital floor after being extubated in the postanesthesia care unit in good condition. in the evening on postoperative day one, the patient was taken back to the operating room emergently for likely mesenteric bleeding. this was controlled with suture ligation, and the patient was admitted to the surgical intensive care unit postoperatively for close monitoring. the patient remained intubated in the intensive care unit on pressor support and received total parenteral nutrition until postoperative day seven. at this time, the patient's mental status was extremely labile requiring haldol for agitation. the patient's hematocrit was stable at 35.8 at this time. tube feeds were initiated on postoperative day eight. on postoperative day nine, the patient was transferred to the regular hospital floor. at this time, tube feeds were held for elevated residuals and nausea. he was still receiving total parenteral nutrition at this time. the patient's mental status was still not completely improved. a computed tomography scan was performed on postoperative day ten which did not demonstrate any intra-abdominal pathology. the patient was started on sips on postoperative day eleven and was started on his home medications. at this time, he was seen by the physical therapy service and was being screened for rehabilitation placement. however, on the evening on postoperative day twelve the patient spiked a temperature to 101.5 degrees fahrenheit. a fever workup was done including a chest x-ray and blood cultures. early the next morning, the patient was found unresponsive without a pulse at approximately 2:45 a.m. at this time, a code blue was called and advanced cardiac life support protocol was initiated. however, the patient was asystolic without any respiratory effort at this time. he did receive multiple rounds of epinephrine along with attempts at ventilation. however, the patient never regained electrical activity and was pronounced deceased at 2:57 a.m. the patient's wife was notified at this time. however, a postmortem examination was declined. condition at discharge: the patient expired on . , m.d. dictated by: medquist36 Procedure: Continuous invasive mechanical ventilation for less than 96 consecutive hours Venous catheterization, not elsewhere classified Parenteral infusion of concentrated nutritional substances Insertion of endotracheal tube Other lysis of peritoneal adhesions Reopening of recent laparotomy site Cardiopulmonary resuscitation, not otherwise specified Incisional hernia repair Anastomosis of hepatic duct to gastrointestinal tract Open biopsy of pancreas Diagnoses: Unspecified essential hypertension Cardiac complications, not elsewhere classified Hemorrhage complicating a procedure Cardiac arrest Malignant neoplasm of head of pancreas Calculus of gallbladder with other cholecystitis, without mention of obstruction Peritoneal adhesions (postoperative) (postinfection) Incisional hernia without mention of obstruction or gangrene Surgical operation with anastomosis, bypass, or graft, with natural or artificial tissues used as implant causing abnormal patient reaction, or later complication, without mention of misadventure at time of operation\n",
        "\n",
        " \"\"\""
      ],
      "metadata": {
        "id": "ld0Knxk1WTgo"
      },
      "execution_count": 31,
      "outputs": []
    },
    {
      "cell_type": "code",
      "source": [
        "documents=[Document(page_content=text)]\n",
        "graph_doc = llmtransformer.convert_to_graph_documents(documents)"
      ],
      "metadata": {
        "id": "YSTXlD5ZWb8Q"
      },
      "execution_count": 32,
      "outputs": []
    },
    {
      "cell_type": "code",
      "source": [
        "graph_doc"
      ],
      "metadata": {
        "colab": {
          "base_uri": "https://localhost:8080/"
        },
        "id": "JbijVxWk_Fv-",
        "outputId": "304e9268-cc38-4161-ee59-bb18dabf6d07"
      },
      "execution_count": 33,
      "outputs": [
        {
          "output_type": "execute_result",
          "data": {
            "text/plain": [
              "[GraphDocument(nodes=[Node(id='Mr.', type='Person', properties={}), Node(id='Pancreatic Cancer', type='Disease', properties={}), Node(id='Ulcerative Colitis', type='Disease', properties={}), Node(id='Hypertension', type='Disease', properties={}), Node(id='Endoscopic Retrograde Cholangiopancreatography', type='Medical procedure', properties={}), Node(id='Total Abdominal Colectomy', type='Medical procedure', properties={}), Node(id='End-Ileostomy', type='Medical procedure', properties={}), Node(id='Computed Tomography', type='Medical procedure', properties={}), Node(id='Head Of The Pancreas Mass', type='Medical condition', properties={}), Node(id='Dilated Intrahepatic Duct', type='Medical condition', properties={}), Node(id='Vascular Involvement', type='Medical condition', properties={}), Node(id='Gastroduodenal Artery', type='Anatomy', properties={}), Node(id='Superior Mesenteric Vein', type='Anatomy', properties={}), Node(id='Exploratory Laparotomy', type='Medical procedure', properties={}), Node(id='Pancreatic Mass Resection', type='Medical procedure', properties={}), Node(id='Benign Prostatic Hypertrophy', type='Disease', properties={}), Node(id='Transurethral Resection Of Prostate', type='Medical procedure', properties={}), Node(id='Moexipril', type='Medication', properties={}), Node(id='Aspirin', type='Medication', properties={}), Node(id='Atenolol', type='Medication', properties={}), Node(id='Allopurinol', type='Medication', properties={}), Node(id='Multivitamin', type='Medication', properties={}), Node(id='Jaundice', type='Medical condition', properties={}), Node(id='Healed Midline Scar', type='Medical condition', properties={}), Node(id='Ileostomy', type='Medical condition', properties={}), Node(id='Hematocrit', type='Medical test', properties={}), Node(id='Inr', type='Medical test', properties={}), Node(id='Creatinine', type='Medical test', properties={}), Node(id='Aspartate Aminotransferase', type='Medical test', properties={}), Node(id='Alanine Aminotransferase', type='Medical test', properties={}), Node(id='Alkaline Phosphatase', type='Medical test', properties={}), Node(id='Total Bilirubin', type='Medical test', properties={}), Node(id='Unresectable Pancreatic Cancer', type='Disease', properties={}), Node(id='Biliary Obstruction', type='Medical condition', properties={}), Node(id='Adhesiolysis', type='Medical procedure', properties={}), Node(id='Roux-En-Y Hepaticojejunostomy', type='Medical procedure', properties={}), Node(id='Open Cholecystectomy', type='Medical procedure', properties={}), Node(id='Open Pancreatic Biopsy', type='Medical procedure', properties={}), Node(id='Gastrojejunostomy', type='Medical procedure', properties={}), Node(id='Mesenteric Bleeding', type='Medical condition', properties={}), Node(id='Suture Ligation', type='Medical procedure', properties={}), Node(id='Total Parenteral Nutrition', type='Medical treatment', properties={}), Node(id='Haldol', type='Medication', properties={}), Node(id='Tube Feeds', type='Medical treatment', properties={}), Node(id='Elevated Residuals', type='Medical condition', properties={}), Node(id='Nausea', type='Medical condition', properties={}), Node(id='Computed Tomography Scan', type='Medical procedure', properties={}), Node(id='Intra-Abdominal Pathology', type='Medical condition', properties={}), Node(id='Sips', type='Medical treatment', properties={}), Node(id='Physical Therapy', type='Medical treatment', properties={}), Node(id='Rehabilitation Placement', type='Medical treatment', properties={}), Node(id='Fever', type='Medical condition', properties={}), Node(id='Chest X-Ray', type='Medical procedure', properties={}), Node(id='Blood Cultures', type='Medical procedure', properties={}), Node(id='Unresponsive', type='Medical condition', properties={}), Node(id='Pulse', type='Medical condition', properties={}), Node(id='Code Blue', type='Medical event', properties={}), Node(id='Advanced Cardiac Life Support', type='Medical procedure', properties={}), Node(id='Asystolic', type='Medical condition', properties={}), Node(id='Respiratory Effort', type='Medical condition', properties={}), Node(id='Epinephrine', type='Medication', properties={}), Node(id='Ventilation', type='Medical procedure', properties={}), Node(id='Deceased', type='Medical condition', properties={}), Node(id='Postmortem Examination', type='Medical procedure', properties={}), Node(id='Continuous Invasive Mechanical Ventilation', type='Medical procedure', properties={}), Node(id='Venous Catheterization', type='Medical procedure', properties={}), Node(id='Parenteral Infusion Of Concentrated Nutritional Substances', type='Medical procedure', properties={}), Node(id='Insertion Of Endotracheal Tube', type='Medical procedure', properties={}), Node(id='Other Lysis Of Peritoneal Adhesions', type='Medical procedure', properties={}), Node(id='Reopening Of Recent Laparotomy Site', type='Medical procedure', properties={}), Node(id='Cardiopulmonary Resuscitation', type='Medical procedure', properties={}), Node(id='Incisional Hernia Repair', type='Medical procedure', properties={}), Node(id='Anastomosis Of Hepatic Duct To Gastrointestinal Tract', type='Medical procedure', properties={}), Node(id='Unspecified Essential Hypertension', type='Disease', properties={}), Node(id='Cardiac Complications', type='Disease', properties={}), Node(id='Hemorrhage', type='Medical condition', properties={}), Node(id='Cardiac Arrest', type='Medical condition', properties={}), Node(id='Malignant Neoplasm Of Head Of Pancreas', type='Disease', properties={}), Node(id='Calculus Of Gallbladder', type='Disease', properties={}), Node(id='Cholecystitis', type='Disease', properties={}), Node(id='Peritoneal Adhesions', type='Medical condition', properties={}), Node(id='Incisional Hernia', type='Medical condition', properties={}), Node(id='Surgical Operation', type='Medical procedure', properties={}), Node(id='Abnormal Patient Reaction', type='Medical condition', properties={}), Node(id='Complication', type='Medical condition', properties={})], relationships=[Relationship(source=Node(id='Mr.', type='Person', properties={}), target=Node(id='Pancreatic Cancer', type='Disease', properties={}), type='HAS_DISEASE', properties={}), Relationship(source=Node(id='Mr.', type='Person', properties={}), target=Node(id='Ulcerative Colitis', type='Disease', properties={}), type='HAS_DISEASE', properties={}), Relationship(source=Node(id='Mr.', type='Person', properties={}), target=Node(id='Hypertension', type='Disease', properties={}), type='HAS_DISEASE', properties={}), Relationship(source=Node(id='Mr.', type='Person', properties={}), target=Node(id='Endoscopic Retrograde Cholangiopancreatography', type='Medical procedure', properties={}), type='UNDERWENT_PROCEDURE', properties={}), Relationship(source=Node(id='Mr.', type='Person', properties={}), target=Node(id='Total Abdominal Colectomy', type='Medical procedure', properties={}), type='UNDERWENT_PROCEDURE', properties={}), Relationship(source=Node(id='Total Abdominal Colectomy', type='Medical procedure', properties={}), target=Node(id='End-Ileostomy', type='Medical procedure', properties={}), type='HAS_PROCEDURE', properties={}), Relationship(source=Node(id='Mr.', type='Person', properties={}), target=Node(id='Computed Tomography', type='Medical procedure', properties={}), type='UNDERWENT_PROCEDURE', properties={}), Relationship(source=Node(id='Computed Tomography', type='Medical procedure', properties={}), target=Node(id='Head Of The Pancreas Mass', type='Medical condition', properties={}), type='SHOWED_CONDITION', properties={}), Relationship(source=Node(id='Computed Tomography', type='Medical procedure', properties={}), target=Node(id='Dilated Intrahepatic Duct', type='Medical condition', properties={}), type='SHOWED_CONDITION', properties={}), Relationship(source=Node(id='Computed Tomography', type='Medical procedure', properties={}), target=Node(id='Vascular Involvement', type='Medical condition', properties={}), type='SHOWED_CONDITION', properties={}), Relationship(source=Node(id='Vascular Involvement', type='Medical condition', properties={}), target=Node(id='Gastroduodenal Artery', type='Anatomy', properties={}), type='INVOLVES', properties={}), Relationship(source=Node(id='Vascular Involvement', type='Medical condition', properties={}), target=Node(id='Superior Mesenteric Vein', type='Anatomy', properties={}), type='INVOLVES', properties={}), Relationship(source=Node(id='Mr.', type='Person', properties={}), target=Node(id='Exploratory Laparotomy', type='Medical procedure', properties={}), type='UNDERWENT_PROCEDURE', properties={}), Relationship(source=Node(id='Exploratory Laparotomy', type='Medical procedure', properties={}), target=Node(id='Pancreatic Mass Resection', type='Medical procedure', properties={}), type='HAS_PROCEDURE', properties={}), Relationship(source=Node(id='Mr.', type='Person', properties={}), target=Node(id='Benign Prostatic Hypertrophy', type='Disease', properties={}), type='HAS_DISEASE', properties={}), Relationship(source=Node(id='Mr.', type='Person', properties={}), target=Node(id='Transurethral Resection Of Prostate', type='Medical procedure', properties={}), type='UNDERWENT_PROCEDURE', properties={}), Relationship(source=Node(id='Mr.', type='Person', properties={}), target=Node(id='Moexipril', type='Medication', properties={}), type='TAKES_MEDICATION', properties={}), Relationship(source=Node(id='Mr.', type='Person', properties={}), target=Node(id='Aspirin', type='Medication', properties={}), type='TAKES_MEDICATION', properties={}), Relationship(source=Node(id='Mr.', type='Person', properties={}), target=Node(id='Atenolol', type='Medication', properties={}), type='TAKES_MEDICATION', properties={}), Relationship(source=Node(id='Mr.', type='Person', properties={}), target=Node(id='Allopurinol', type='Medication', properties={}), type='TAKES_MEDICATION', properties={}), Relationship(source=Node(id='Mr.', type='Person', properties={}), target=Node(id='Multivitamin', type='Medication', properties={}), type='TAKES_MEDICATION', properties={}), Relationship(source=Node(id='Mr.', type='Person', properties={}), target=Node(id='Jaundice', type='Medical condition', properties={}), type='HAS_CONDITION', properties={}), Relationship(source=Node(id='Mr.', type='Person', properties={}), target=Node(id='Healed Midline Scar', type='Medical condition', properties={}), type='HAS_CONDITION', properties={}), Relationship(source=Node(id='Mr.', type='Person', properties={}), target=Node(id='Ileostomy', type='Medical condition', properties={}), type='HAS_CONDITION', properties={}), Relationship(source=Node(id='Mr.', type='Person', properties={}), target=Node(id='Hematocrit', type='Medical test', properties={}), type='UNDERWENT_TEST', properties={}), Relationship(source=Node(id='Mr.', type='Person', properties={}), target=Node(id='Inr', type='Medical test', properties={}), type='UNDERWENT_TEST', properties={}), Relationship(source=Node(id='Mr.', type='Person', properties={}), target=Node(id='Creatinine', type='Medical test', properties={}), type='UNDERWENT_TEST', properties={}), Relationship(source=Node(id='Mr.', type='Person', properties={}), target=Node(id='Aspartate Aminotransferase', type='Medical test', properties={}), type='UNDERWENT_TEST', properties={}), Relationship(source=Node(id='Mr.', type='Person', properties={}), target=Node(id='Alanine Aminotransferase', type='Medical test', properties={}), type='UNDERWENT_TEST', properties={}), Relationship(source=Node(id='Mr.', type='Person', properties={}), target=Node(id='Alkaline Phosphatase', type='Medical test', properties={}), type='UNDERWENT_TEST', properties={}), Relationship(source=Node(id='Mr.', type='Person', properties={}), target=Node(id='Total Bilirubin', type='Medical test', properties={}), type='UNDERWENT_TEST', properties={}), Relationship(source=Node(id='Mr.', type='Person', properties={}), target=Node(id='Unresectable Pancreatic Cancer', type='Disease', properties={}), type='HAS_DISEASE', properties={}), Relationship(source=Node(id='Mr.', type='Person', properties={}), target=Node(id='Biliary Obstruction', type='Medical condition', properties={}), type='HAS_CONDITION', properties={}), Relationship(source=Node(id='Exploratory Laparotomy', type='Medical procedure', properties={}), target=Node(id='Adhesiolysis', type='Medical procedure', properties={}), type='HAS_PROCEDURE', properties={}), Relationship(source=Node(id='Exploratory Laparotomy', type='Medical procedure', properties={}), target=Node(id='Roux-En-Y Hepaticojejunostomy', type='Medical procedure', properties={}), type='HAS_PROCEDURE', properties={}), Relationship(source=Node(id='Exploratory Laparotomy', type='Medical procedure', properties={}), target=Node(id='Open Cholecystectomy', type='Medical procedure', properties={}), type='HAS_PROCEDURE', properties={}), Relationship(source=Node(id='Exploratory Laparotomy', type='Medical procedure', properties={}), target=Node(id='Open Pancreatic Biopsy', type='Medical procedure', properties={}), type='HAS_PROCEDURE', properties={}), Relationship(source=Node(id='Exploratory Laparotomy', type='Medical procedure', properties={}), target=Node(id='Gastrojejunostomy', type='Medical procedure', properties={}), type='HAS_PROCEDURE', properties={}), Relationship(source=Node(id='Mr.', type='Person', properties={}), target=Node(id='Mesenteric Bleeding', type='Medical condition', properties={}), type='HAS_CONDITION', properties={}), Relationship(source=Node(id='Mesenteric Bleeding', type='Medical condition', properties={}), target=Node(id='Suture Ligation', type='Medical procedure', properties={}), type='TREATED_BY', properties={}), Relationship(source=Node(id='Mr.', type='Person', properties={}), target=Node(id='Total Parenteral Nutrition', type='Medical treatment', properties={}), type='RECEIVED_TREATMENT', properties={}), Relationship(source=Node(id='Mr.', type='Person', properties={}), target=Node(id='Haldol', type='Medication', properties={}), type='TAKES_MEDICATION', properties={}), Relationship(source=Node(id='Mr.', type='Person', properties={}), target=Node(id='Tube Feeds', type='Medical treatment', properties={}), type='RECEIVED_TREATMENT', properties={}), Relationship(source=Node(id='Mr.', type='Person', properties={}), target=Node(id='Elevated Residuals', type='Medical condition', properties={}), type='HAS_CONDITION', properties={}), Relationship(source=Node(id='Mr.', type='Person', properties={}), target=Node(id='Nausea', type='Medical condition', properties={}), type='HAS_CONDITION', properties={}), Relationship(source=Node(id='Mr.', type='Person', properties={}), target=Node(id='Computed Tomography Scan', type='Medical procedure', properties={}), type='UNDERWENT_PROCEDURE', properties={}), Relationship(source=Node(id='Computed Tomography Scan', type='Medical procedure', properties={}), target=Node(id='Intra-Abdominal Pathology', type='Medical condition', properties={}), type='SHOWED_CONDITION', properties={}), Relationship(source=Node(id='Mr.', type='Person', properties={}), target=Node(id='Sips', type='Medical treatment', properties={}), type='RECEIVED_TREATMENT', properties={}), Relationship(source=Node(id='Mr.', type='Person', properties={}), target=Node(id='Physical Therapy', type='Medical treatment', properties={}), type='RECEIVED_TREATMENT', properties={}), Relationship(source=Node(id='Physical Therapy', type='Medical treatment', properties={}), target=Node(id='Rehabilitation Placement', type='Medical treatment', properties={}), type='HAS_TREATMENT', properties={}), Relationship(source=Node(id='Mr.', type='Person', properties={}), target=Node(id='Fever', type='Medical condition', properties={}), type='HAS_CONDITION', properties={}), Relationship(source=Node(id='Fever', type='Medical condition', properties={}), target=Node(id='Chest X-Ray', type='Medical procedure', properties={}), type='TREATED_BY', properties={}), Relationship(source=Node(id='Fever', type='Medical condition', properties={}), target=Node(id='Blood Cultures', type='Medical procedure', properties={}), type='TREATED_BY', properties={}), Relationship(source=Node(id='Mr.', type='Person', properties={}), target=Node(id='Unresponsive', type='Medical condition', properties={}), type='HAS_CONDITION', properties={}), Relationship(source=Node(id='Mr.', type='Person', properties={}), target=Node(id='Pulse', type='Medical condition', properties={}), type='HAS_CONDITION', properties={}), Relationship(source=Node(id='Mr.', type='Person', properties={}), target=Node(id='Code Blue', type='Medical event', properties={}), type='EXPERIENCED_EVENT', properties={}), Relationship(source=Node(id='Code Blue', type='Medical event', properties={}), target=Node(id='Advanced Cardiac Life Support', type='Medical procedure', properties={}), type='HAS_PROCEDURE', properties={}), Relationship(source=Node(id='Mr.', type='Person', properties={}), target=Node(id='Asystolic', type='Medical condition', properties={}), type='HAS_CONDITION', properties={}), Relationship(source=Node(id='Mr.', type='Person', properties={}), target=Node(id='Respiratory Effort', type='Medical condition', properties={}), type='HAS_CONDITION', properties={}), Relationship(source=Node(id='Advanced Cardiac Life Support', type='Medical procedure', properties={}), target=Node(id='Epinephrine', type='Medication', properties={}), type='USES_MEDICATION', properties={}), Relationship(source=Node(id='Advanced Cardiac Life Support', type='Medical procedure', properties={}), target=Node(id='Ventilation', type='Medical procedure', properties={}), type='HAS_PROCEDURE', properties={}), Relationship(source=Node(id='Mr.', type='Person', properties={}), target=Node(id='Deceased', type='Medical condition', properties={}), type='HAS_CONDITION', properties={}), Relationship(source=Node(id='Mr.', type='Person', properties={}), target=Node(id='Postmortem Examination', type='Medical procedure', properties={}), type='UNDERWENT_PROCEDURE', properties={}), Relationship(source=Node(id='Mr.', type='Person', properties={}), target=Node(id='Continuous Invasive Mechanical Ventilation', type='Medical procedure', properties={}), type='UNDERWENT_PROCEDURE', properties={}), Relationship(source=Node(id='Mr.', type='Person', properties={}), target=Node(id='Venous Catheterization', type='Medical procedure', properties={}), type='UNDERWENT_PROCEDURE', properties={}), Relationship(source=Node(id='Mr.', type='Person', properties={}), target=Node(id='Parenteral Infusion Of Concentrated Nutritional Substances', type='Medical procedure', properties={}), type='UNDERWENT_PROCEDURE', properties={}), Relationship(source=Node(id='Mr.', type='Person', properties={}), target=Node(id='Insertion Of Endotracheal Tube', type='Medical procedure', properties={}), type='UNDERWENT_PROCEDURE', properties={}), Relationship(source=Node(id='Mr.', type='Person', properties={}), target=Node(id='Other Lysis Of Peritoneal Adhesions', type='Medical procedure', properties={}), type='UNDERWENT_PROCEDURE', properties={}), Relationship(source=Node(id='Mr.', type='Person', properties={}), target=Node(id='Reopening Of Recent Laparotomy Site', type='Medical procedure', properties={}), type='UNDERWENT_PROCEDURE', properties={}), Relationship(source=Node(id='Mr.', type='Person', properties={}), target=Node(id='Cardiopulmonary Resuscitation', type='Medical procedure', properties={}), type='UNDERWENT_PROCEDURE', properties={}), Relationship(source=Node(id='Mr.', type='Person', properties={}), target=Node(id='Incisional Hernia Repair', type='Medical procedure', properties={}), type='UNDERWENT_PROCEDURE', properties={}), Relationship(source=Node(id='Mr.', type='Person', properties={}), target=Node(id='Anastomosis Of Hepatic Duct To Gastrointestinal Tract', type='Medical procedure', properties={}), type='UNDERWENT_PROCEDURE', properties={}), Relationship(source=Node(id='Mr.', type='Person', properties={}), target=Node(id='Unspecified Essential Hypertension', type='Disease', properties={}), type='HAS_DISEASE', properties={}), Relationship(source=Node(id='Mr.', type='Person', properties={}), target=Node(id='Cardiac Complications', type='Disease', properties={}), type='HAS_DISEASE', properties={}), Relationship(source=Node(id='Mr.', type='Person', properties={}), target=Node(id='Hemorrhage', type='Medical condition', properties={}), type='HAS_CONDITION', properties={}), Relationship(source=Node(id='Mr.', type='Person', properties={}), target=Node(id='Cardiac Arrest', type='Medical condition', properties={}), type='HAS_CONDITION', properties={}), Relationship(source=Node(id='Mr.', type='Person', properties={}), target=Node(id='Malignant Neoplasm Of Head Of Pancreas', type='Disease', properties={}), type='HAS_DISEASE', properties={}), Relationship(source=Node(id='Mr.', type='Person', properties={}), target=Node(id='Calculus Of Gallbladder', type='Disease', properties={}), type='HAS_DISEASE', properties={}), Relationship(source=Node(id='Calculus Of Gallbladder', type='Disease', properties={}), target=Node(id='Cholecystitis', type='Disease', properties={}), type='HAS_DISEASE', properties={}), Relationship(source=Node(id='Mr.', type='Person', properties={}), target=Node(id='Peritoneal Adhesions', type='Medical condition', properties={}), type='HAS_CONDITION', properties={}), Relationship(source=Node(id='Mr.', type='Person', properties={}), target=Node(id='Incisional Hernia', type='Medical condition', properties={}), type='HAS_CONDITION', properties={}), Relationship(source=Node(id='Mr.', type='Person', properties={}), target=Node(id='Surgical Operation', type='Medical procedure', properties={}), type='UNDERWENT_PROCEDURE', properties={}), Relationship(source=Node(id='Surgical Operation', type='Medical procedure', properties={}), target=Node(id='Abnormal Patient Reaction', type='Medical condition', properties={}), type='CAUSES', properties={}), Relationship(source=Node(id='Surgical Operation', type='Medical procedure', properties={}), target=Node(id='Complication', type='Medical condition', properties={}), type='CAUSES', properties={})], source=Document(metadata={}, page_content=\"    mr. is a 72-year-old male with a past medical history significant for pancreatic cancer, ulcerative colitis, hypertension, status post endoscopic retrograde cholangiopancreatography, and status post total abdominal colectomy 20 years ago with an end-ileostomy. the patient underwent an endoscopic retrograde cholangiopancreatography recently, but a stent was unable to be placed. a computed tomography was performed which demonstrated a head of the pancreas mass with dilated intrahepatic duct along with vascular involvement of the gastroduodenal artery and superior mesenteric vein. he presented for exploratory laparotomy with possible pancreatic mass resection. past medical history: 1. ulcerative colitis. 2. hypertension. 3. benign prostatic hypertrophy. past surgical history: 1. total abdominal colectomy with end-ileostomy. 2. status post transurethral resection of prostate. medications on admission: 1. moexipril 15 mg by mouth once per day. 2. aspirin 81 mg by mouth once per day. 3. atenolol 25 mg by mouth once per day. 4. allopurinol 300 mg by mouth once per day. 5. multivitamin. allergies: the patient has no known drug allergies. physical examination on presentation: the patient is a thin, cachectic caucasian male who was alert and oriented times three. in no apparent distress. the sclerae were anicteric. the patient was jaundiced. the oropharynx was clear with moist mucous membranes. the neck was supple and without lymphadenopathy. the heart was regular in rate and rhythm. the lungs were clear to auscultation bilaterally. the abdomen was soft, nontender, and nondistended. there was a well-healed midline scar and ileostomy present. the extremities were warm without cyanosis, clubbing, or edema. pertinent laboratory values on presentation: his hematocrit was 43.2. his inr was 1.2. creatinine was 1.6. aspartate aminotransferase was 51, his alanine-aminotransferase was 89, his alkaline phosphatase was 395, and his total bilirubin was 12.5. brief summary of hospital course: on the day of admission, the patient was taken to the operating room where an exploratory laparotomy was performed. the patient had evidence of unresectable pancreatic cancer with biliary obstruction seen intraoperatively. adhesiolysis was therefore performed along with a roux-en-y hepaticojejunostomy, and open cholecystectomy, an open pancreatic biopsy, and a gastrojejunostomy. the estimated blood loss for the procedure was 250 cc. the patient was discharged to the regular hospital floor after being extubated in the postanesthesia care unit in good condition. in the evening on postoperative day one, the patient was taken back to the operating room emergently for likely mesenteric bleeding. this was controlled with suture ligation, and the patient was admitted to the surgical intensive care unit postoperatively for close monitoring. the patient remained intubated in the intensive care unit on pressor support and received total parenteral nutrition until postoperative day seven. at this time, the patient's mental status was extremely labile requiring haldol for agitation. the patient's hematocrit was stable at 35.8 at this time. tube feeds were initiated on postoperative day eight. on postoperative day nine, the patient was transferred to the regular hospital floor. at this time, tube feeds were held for elevated residuals and nausea. he was still receiving total parenteral nutrition at this time. the patient's mental status was still not completely improved. a computed tomography scan was performed on postoperative day ten which did not demonstrate any intra-abdominal pathology. the patient was started on sips on postoperative day eleven and was started on his home medications. at this time, he was seen by the physical therapy service and was being screened for rehabilitation placement. however, on the evening on postoperative day twelve the patient spiked a temperature to 101.5 degrees fahrenheit. a fever workup was done including a chest x-ray and blood cultures. early the next morning, the patient was found unresponsive without a pulse at approximately 2:45 a.m. at this time, a code blue was called and advanced cardiac life support protocol was initiated. however, the patient was asystolic without any respiratory effort at this time. he did receive multiple rounds of epinephrine along with attempts at ventilation. however, the patient never regained electrical activity and was pronounced deceased at 2:57 a.m. the patient's wife was notified at this time. however, a postmortem examination was declined. condition at discharge: the patient expired on . , m.d. dictated by: medquist36 Procedure: Continuous invasive mechanical ventilation for less than 96 consecutive hours Venous catheterization, not elsewhere classified Parenteral infusion of concentrated nutritional substances Insertion of endotracheal tube Other lysis of peritoneal adhesions Reopening of recent laparotomy site Cardiopulmonary resuscitation, not otherwise specified Incisional hernia repair Anastomosis of hepatic duct to gastrointestinal tract Open biopsy of pancreas Diagnoses: Unspecified essential hypertension Cardiac complications, not elsewhere classified Hemorrhage complicating a procedure Cardiac arrest Malignant neoplasm of head of pancreas Calculus of gallbladder with other cholecystitis, without mention of obstruction Peritoneal adhesions (postoperative) (postinfection) Incisional hernia without mention of obstruction or gangrene Surgical operation with anastomosis, bypass, or graft, with natural or artificial tissues used as implant causing abnormal patient reaction, or later complication, without mention of misadventure at time of operation\\n\\n \"))]"
            ]
          },
          "metadata": {},
          "execution_count": 33
        }
      ]
    },
    {
      "cell_type": "code",
      "source": [
        "for node in graph_doc[0].nodes:\n",
        "    print(node)"
      ],
      "metadata": {
        "colab": {
          "base_uri": "https://localhost:8080/"
        },
        "id": "Z5AjkOO3WzvB",
        "outputId": "19fb5480-500d-4b4c-e972-a6c990623154"
      },
      "execution_count": 34,
      "outputs": [
        {
          "output_type": "stream",
          "name": "stdout",
          "text": [
            "id='Mr.' type='Person' properties={}\n",
            "id='Pancreatic Cancer' type='Disease' properties={}\n",
            "id='Ulcerative Colitis' type='Disease' properties={}\n",
            "id='Hypertension' type='Disease' properties={}\n",
            "id='Endoscopic Retrograde Cholangiopancreatography' type='Medical procedure' properties={}\n",
            "id='Total Abdominal Colectomy' type='Medical procedure' properties={}\n",
            "id='End-Ileostomy' type='Medical procedure' properties={}\n",
            "id='Computed Tomography' type='Medical procedure' properties={}\n",
            "id='Head Of The Pancreas Mass' type='Medical condition' properties={}\n",
            "id='Dilated Intrahepatic Duct' type='Medical condition' properties={}\n",
            "id='Vascular Involvement' type='Medical condition' properties={}\n",
            "id='Gastroduodenal Artery' type='Anatomy' properties={}\n",
            "id='Superior Mesenteric Vein' type='Anatomy' properties={}\n",
            "id='Exploratory Laparotomy' type='Medical procedure' properties={}\n",
            "id='Pancreatic Mass Resection' type='Medical procedure' properties={}\n",
            "id='Benign Prostatic Hypertrophy' type='Disease' properties={}\n",
            "id='Transurethral Resection Of Prostate' type='Medical procedure' properties={}\n",
            "id='Moexipril' type='Medication' properties={}\n",
            "id='Aspirin' type='Medication' properties={}\n",
            "id='Atenolol' type='Medication' properties={}\n",
            "id='Allopurinol' type='Medication' properties={}\n",
            "id='Multivitamin' type='Medication' properties={}\n",
            "id='Jaundice' type='Medical condition' properties={}\n",
            "id='Healed Midline Scar' type='Medical condition' properties={}\n",
            "id='Ileostomy' type='Medical condition' properties={}\n",
            "id='Hematocrit' type='Medical test' properties={}\n",
            "id='Inr' type='Medical test' properties={}\n",
            "id='Creatinine' type='Medical test' properties={}\n",
            "id='Aspartate Aminotransferase' type='Medical test' properties={}\n",
            "id='Alanine Aminotransferase' type='Medical test' properties={}\n",
            "id='Alkaline Phosphatase' type='Medical test' properties={}\n",
            "id='Total Bilirubin' type='Medical test' properties={}\n",
            "id='Unresectable Pancreatic Cancer' type='Disease' properties={}\n",
            "id='Biliary Obstruction' type='Medical condition' properties={}\n",
            "id='Adhesiolysis' type='Medical procedure' properties={}\n",
            "id='Roux-En-Y Hepaticojejunostomy' type='Medical procedure' properties={}\n",
            "id='Open Cholecystectomy' type='Medical procedure' properties={}\n",
            "id='Open Pancreatic Biopsy' type='Medical procedure' properties={}\n",
            "id='Gastrojejunostomy' type='Medical procedure' properties={}\n",
            "id='Mesenteric Bleeding' type='Medical condition' properties={}\n",
            "id='Suture Ligation' type='Medical procedure' properties={}\n",
            "id='Total Parenteral Nutrition' type='Medical treatment' properties={}\n",
            "id='Haldol' type='Medication' properties={}\n",
            "id='Tube Feeds' type='Medical treatment' properties={}\n",
            "id='Elevated Residuals' type='Medical condition' properties={}\n",
            "id='Nausea' type='Medical condition' properties={}\n",
            "id='Computed Tomography Scan' type='Medical procedure' properties={}\n",
            "id='Intra-Abdominal Pathology' type='Medical condition' properties={}\n",
            "id='Sips' type='Medical treatment' properties={}\n",
            "id='Physical Therapy' type='Medical treatment' properties={}\n",
            "id='Rehabilitation Placement' type='Medical treatment' properties={}\n",
            "id='Fever' type='Medical condition' properties={}\n",
            "id='Chest X-Ray' type='Medical procedure' properties={}\n",
            "id='Blood Cultures' type='Medical procedure' properties={}\n",
            "id='Unresponsive' type='Medical condition' properties={}\n",
            "id='Pulse' type='Medical condition' properties={}\n",
            "id='Code Blue' type='Medical event' properties={}\n",
            "id='Advanced Cardiac Life Support' type='Medical procedure' properties={}\n",
            "id='Asystolic' type='Medical condition' properties={}\n",
            "id='Respiratory Effort' type='Medical condition' properties={}\n",
            "id='Epinephrine' type='Medication' properties={}\n",
            "id='Ventilation' type='Medical procedure' properties={}\n",
            "id='Deceased' type='Medical condition' properties={}\n",
            "id='Postmortem Examination' type='Medical procedure' properties={}\n",
            "id='Continuous Invasive Mechanical Ventilation' type='Medical procedure' properties={}\n",
            "id='Venous Catheterization' type='Medical procedure' properties={}\n",
            "id='Parenteral Infusion Of Concentrated Nutritional Substances' type='Medical procedure' properties={}\n",
            "id='Insertion Of Endotracheal Tube' type='Medical procedure' properties={}\n",
            "id='Other Lysis Of Peritoneal Adhesions' type='Medical procedure' properties={}\n",
            "id='Reopening Of Recent Laparotomy Site' type='Medical procedure' properties={}\n",
            "id='Cardiopulmonary Resuscitation' type='Medical procedure' properties={}\n",
            "id='Incisional Hernia Repair' type='Medical procedure' properties={}\n",
            "id='Anastomosis Of Hepatic Duct To Gastrointestinal Tract' type='Medical procedure' properties={}\n",
            "id='Unspecified Essential Hypertension' type='Disease' properties={}\n",
            "id='Cardiac Complications' type='Disease' properties={}\n",
            "id='Hemorrhage' type='Medical condition' properties={}\n",
            "id='Cardiac Arrest' type='Medical condition' properties={}\n",
            "id='Malignant Neoplasm Of Head Of Pancreas' type='Disease' properties={}\n",
            "id='Calculus Of Gallbladder' type='Disease' properties={}\n",
            "id='Cholecystitis' type='Disease' properties={}\n",
            "id='Peritoneal Adhesions' type='Medical condition' properties={}\n",
            "id='Incisional Hernia' type='Medical condition' properties={}\n",
            "id='Surgical Operation' type='Medical procedure' properties={}\n",
            "id='Abnormal Patient Reaction' type='Medical condition' properties={}\n",
            "id='Complication' type='Medical condition' properties={}\n"
          ]
        }
      ]
    },
    {
      "cell_type": "code",
      "source": [
        "for relationship in graph_doc[0].relationships:\n",
        "  print(relationship)"
      ],
      "metadata": {
        "colab": {
          "base_uri": "https://localhost:8080/"
        },
        "id": "el1bjWV-XAK6",
        "outputId": "51e5e103-137e-46b2-f032-ee039b45032d"
      },
      "execution_count": 35,
      "outputs": [
        {
          "output_type": "stream",
          "name": "stdout",
          "text": [
            "source=Node(id='Mr.', type='Person', properties={}) target=Node(id='Pancreatic Cancer', type='Disease', properties={}) type='HAS_DISEASE' properties={}\n",
            "source=Node(id='Mr.', type='Person', properties={}) target=Node(id='Ulcerative Colitis', type='Disease', properties={}) type='HAS_DISEASE' properties={}\n",
            "source=Node(id='Mr.', type='Person', properties={}) target=Node(id='Hypertension', type='Disease', properties={}) type='HAS_DISEASE' properties={}\n",
            "source=Node(id='Mr.', type='Person', properties={}) target=Node(id='Endoscopic Retrograde Cholangiopancreatography', type='Medical procedure', properties={}) type='UNDERWENT_PROCEDURE' properties={}\n",
            "source=Node(id='Mr.', type='Person', properties={}) target=Node(id='Total Abdominal Colectomy', type='Medical procedure', properties={}) type='UNDERWENT_PROCEDURE' properties={}\n",
            "source=Node(id='Total Abdominal Colectomy', type='Medical procedure', properties={}) target=Node(id='End-Ileostomy', type='Medical procedure', properties={}) type='HAS_PROCEDURE' properties={}\n",
            "source=Node(id='Mr.', type='Person', properties={}) target=Node(id='Computed Tomography', type='Medical procedure', properties={}) type='UNDERWENT_PROCEDURE' properties={}\n",
            "source=Node(id='Computed Tomography', type='Medical procedure', properties={}) target=Node(id='Head Of The Pancreas Mass', type='Medical condition', properties={}) type='SHOWED_CONDITION' properties={}\n",
            "source=Node(id='Computed Tomography', type='Medical procedure', properties={}) target=Node(id='Dilated Intrahepatic Duct', type='Medical condition', properties={}) type='SHOWED_CONDITION' properties={}\n",
            "source=Node(id='Computed Tomography', type='Medical procedure', properties={}) target=Node(id='Vascular Involvement', type='Medical condition', properties={}) type='SHOWED_CONDITION' properties={}\n",
            "source=Node(id='Vascular Involvement', type='Medical condition', properties={}) target=Node(id='Gastroduodenal Artery', type='Anatomy', properties={}) type='INVOLVES' properties={}\n",
            "source=Node(id='Vascular Involvement', type='Medical condition', properties={}) target=Node(id='Superior Mesenteric Vein', type='Anatomy', properties={}) type='INVOLVES' properties={}\n",
            "source=Node(id='Mr.', type='Person', properties={}) target=Node(id='Exploratory Laparotomy', type='Medical procedure', properties={}) type='UNDERWENT_PROCEDURE' properties={}\n",
            "source=Node(id='Exploratory Laparotomy', type='Medical procedure', properties={}) target=Node(id='Pancreatic Mass Resection', type='Medical procedure', properties={}) type='HAS_PROCEDURE' properties={}\n",
            "source=Node(id='Mr.', type='Person', properties={}) target=Node(id='Benign Prostatic Hypertrophy', type='Disease', properties={}) type='HAS_DISEASE' properties={}\n",
            "source=Node(id='Mr.', type='Person', properties={}) target=Node(id='Transurethral Resection Of Prostate', type='Medical procedure', properties={}) type='UNDERWENT_PROCEDURE' properties={}\n",
            "source=Node(id='Mr.', type='Person', properties={}) target=Node(id='Moexipril', type='Medication', properties={}) type='TAKES_MEDICATION' properties={}\n",
            "source=Node(id='Mr.', type='Person', properties={}) target=Node(id='Aspirin', type='Medication', properties={}) type='TAKES_MEDICATION' properties={}\n",
            "source=Node(id='Mr.', type='Person', properties={}) target=Node(id='Atenolol', type='Medication', properties={}) type='TAKES_MEDICATION' properties={}\n",
            "source=Node(id='Mr.', type='Person', properties={}) target=Node(id='Allopurinol', type='Medication', properties={}) type='TAKES_MEDICATION' properties={}\n",
            "source=Node(id='Mr.', type='Person', properties={}) target=Node(id='Multivitamin', type='Medication', properties={}) type='TAKES_MEDICATION' properties={}\n",
            "source=Node(id='Mr.', type='Person', properties={}) target=Node(id='Jaundice', type='Medical condition', properties={}) type='HAS_CONDITION' properties={}\n",
            "source=Node(id='Mr.', type='Person', properties={}) target=Node(id='Healed Midline Scar', type='Medical condition', properties={}) type='HAS_CONDITION' properties={}\n",
            "source=Node(id='Mr.', type='Person', properties={}) target=Node(id='Ileostomy', type='Medical condition', properties={}) type='HAS_CONDITION' properties={}\n",
            "source=Node(id='Mr.', type='Person', properties={}) target=Node(id='Hematocrit', type='Medical test', properties={}) type='UNDERWENT_TEST' properties={}\n",
            "source=Node(id='Mr.', type='Person', properties={}) target=Node(id='Inr', type='Medical test', properties={}) type='UNDERWENT_TEST' properties={}\n",
            "source=Node(id='Mr.', type='Person', properties={}) target=Node(id='Creatinine', type='Medical test', properties={}) type='UNDERWENT_TEST' properties={}\n",
            "source=Node(id='Mr.', type='Person', properties={}) target=Node(id='Aspartate Aminotransferase', type='Medical test', properties={}) type='UNDERWENT_TEST' properties={}\n",
            "source=Node(id='Mr.', type='Person', properties={}) target=Node(id='Alanine Aminotransferase', type='Medical test', properties={}) type='UNDERWENT_TEST' properties={}\n",
            "source=Node(id='Mr.', type='Person', properties={}) target=Node(id='Alkaline Phosphatase', type='Medical test', properties={}) type='UNDERWENT_TEST' properties={}\n",
            "source=Node(id='Mr.', type='Person', properties={}) target=Node(id='Total Bilirubin', type='Medical test', properties={}) type='UNDERWENT_TEST' properties={}\n",
            "source=Node(id='Mr.', type='Person', properties={}) target=Node(id='Unresectable Pancreatic Cancer', type='Disease', properties={}) type='HAS_DISEASE' properties={}\n",
            "source=Node(id='Mr.', type='Person', properties={}) target=Node(id='Biliary Obstruction', type='Medical condition', properties={}) type='HAS_CONDITION' properties={}\n",
            "source=Node(id='Exploratory Laparotomy', type='Medical procedure', properties={}) target=Node(id='Adhesiolysis', type='Medical procedure', properties={}) type='HAS_PROCEDURE' properties={}\n",
            "source=Node(id='Exploratory Laparotomy', type='Medical procedure', properties={}) target=Node(id='Roux-En-Y Hepaticojejunostomy', type='Medical procedure', properties={}) type='HAS_PROCEDURE' properties={}\n",
            "source=Node(id='Exploratory Laparotomy', type='Medical procedure', properties={}) target=Node(id='Open Cholecystectomy', type='Medical procedure', properties={}) type='HAS_PROCEDURE' properties={}\n",
            "source=Node(id='Exploratory Laparotomy', type='Medical procedure', properties={}) target=Node(id='Open Pancreatic Biopsy', type='Medical procedure', properties={}) type='HAS_PROCEDURE' properties={}\n",
            "source=Node(id='Exploratory Laparotomy', type='Medical procedure', properties={}) target=Node(id='Gastrojejunostomy', type='Medical procedure', properties={}) type='HAS_PROCEDURE' properties={}\n",
            "source=Node(id='Mr.', type='Person', properties={}) target=Node(id='Mesenteric Bleeding', type='Medical condition', properties={}) type='HAS_CONDITION' properties={}\n",
            "source=Node(id='Mesenteric Bleeding', type='Medical condition', properties={}) target=Node(id='Suture Ligation', type='Medical procedure', properties={}) type='TREATED_BY' properties={}\n",
            "source=Node(id='Mr.', type='Person', properties={}) target=Node(id='Total Parenteral Nutrition', type='Medical treatment', properties={}) type='RECEIVED_TREATMENT' properties={}\n",
            "source=Node(id='Mr.', type='Person', properties={}) target=Node(id='Haldol', type='Medication', properties={}) type='TAKES_MEDICATION' properties={}\n",
            "source=Node(id='Mr.', type='Person', properties={}) target=Node(id='Tube Feeds', type='Medical treatment', properties={}) type='RECEIVED_TREATMENT' properties={}\n",
            "source=Node(id='Mr.', type='Person', properties={}) target=Node(id='Elevated Residuals', type='Medical condition', properties={}) type='HAS_CONDITION' properties={}\n",
            "source=Node(id='Mr.', type='Person', properties={}) target=Node(id='Nausea', type='Medical condition', properties={}) type='HAS_CONDITION' properties={}\n",
            "source=Node(id='Mr.', type='Person', properties={}) target=Node(id='Computed Tomography Scan', type='Medical procedure', properties={}) type='UNDERWENT_PROCEDURE' properties={}\n",
            "source=Node(id='Computed Tomography Scan', type='Medical procedure', properties={}) target=Node(id='Intra-Abdominal Pathology', type='Medical condition', properties={}) type='SHOWED_CONDITION' properties={}\n",
            "source=Node(id='Mr.', type='Person', properties={}) target=Node(id='Sips', type='Medical treatment', properties={}) type='RECEIVED_TREATMENT' properties={}\n",
            "source=Node(id='Mr.', type='Person', properties={}) target=Node(id='Physical Therapy', type='Medical treatment', properties={}) type='RECEIVED_TREATMENT' properties={}\n",
            "source=Node(id='Physical Therapy', type='Medical treatment', properties={}) target=Node(id='Rehabilitation Placement', type='Medical treatment', properties={}) type='HAS_TREATMENT' properties={}\n",
            "source=Node(id='Mr.', type='Person', properties={}) target=Node(id='Fever', type='Medical condition', properties={}) type='HAS_CONDITION' properties={}\n",
            "source=Node(id='Fever', type='Medical condition', properties={}) target=Node(id='Chest X-Ray', type='Medical procedure', properties={}) type='TREATED_BY' properties={}\n",
            "source=Node(id='Fever', type='Medical condition', properties={}) target=Node(id='Blood Cultures', type='Medical procedure', properties={}) type='TREATED_BY' properties={}\n",
            "source=Node(id='Mr.', type='Person', properties={}) target=Node(id='Unresponsive', type='Medical condition', properties={}) type='HAS_CONDITION' properties={}\n",
            "source=Node(id='Mr.', type='Person', properties={}) target=Node(id='Pulse', type='Medical condition', properties={}) type='HAS_CONDITION' properties={}\n",
            "source=Node(id='Mr.', type='Person', properties={}) target=Node(id='Code Blue', type='Medical event', properties={}) type='EXPERIENCED_EVENT' properties={}\n",
            "source=Node(id='Code Blue', type='Medical event', properties={}) target=Node(id='Advanced Cardiac Life Support', type='Medical procedure', properties={}) type='HAS_PROCEDURE' properties={}\n",
            "source=Node(id='Mr.', type='Person', properties={}) target=Node(id='Asystolic', type='Medical condition', properties={}) type='HAS_CONDITION' properties={}\n",
            "source=Node(id='Mr.', type='Person', properties={}) target=Node(id='Respiratory Effort', type='Medical condition', properties={}) type='HAS_CONDITION' properties={}\n",
            "source=Node(id='Advanced Cardiac Life Support', type='Medical procedure', properties={}) target=Node(id='Epinephrine', type='Medication', properties={}) type='USES_MEDICATION' properties={}\n",
            "source=Node(id='Advanced Cardiac Life Support', type='Medical procedure', properties={}) target=Node(id='Ventilation', type='Medical procedure', properties={}) type='HAS_PROCEDURE' properties={}\n",
            "source=Node(id='Mr.', type='Person', properties={}) target=Node(id='Deceased', type='Medical condition', properties={}) type='HAS_CONDITION' properties={}\n",
            "source=Node(id='Mr.', type='Person', properties={}) target=Node(id='Postmortem Examination', type='Medical procedure', properties={}) type='UNDERWENT_PROCEDURE' properties={}\n",
            "source=Node(id='Mr.', type='Person', properties={}) target=Node(id='Continuous Invasive Mechanical Ventilation', type='Medical procedure', properties={}) type='UNDERWENT_PROCEDURE' properties={}\n",
            "source=Node(id='Mr.', type='Person', properties={}) target=Node(id='Venous Catheterization', type='Medical procedure', properties={}) type='UNDERWENT_PROCEDURE' properties={}\n",
            "source=Node(id='Mr.', type='Person', properties={}) target=Node(id='Parenteral Infusion Of Concentrated Nutritional Substances', type='Medical procedure', properties={}) type='UNDERWENT_PROCEDURE' properties={}\n",
            "source=Node(id='Mr.', type='Person', properties={}) target=Node(id='Insertion Of Endotracheal Tube', type='Medical procedure', properties={}) type='UNDERWENT_PROCEDURE' properties={}\n",
            "source=Node(id='Mr.', type='Person', properties={}) target=Node(id='Other Lysis Of Peritoneal Adhesions', type='Medical procedure', properties={}) type='UNDERWENT_PROCEDURE' properties={}\n",
            "source=Node(id='Mr.', type='Person', properties={}) target=Node(id='Reopening Of Recent Laparotomy Site', type='Medical procedure', properties={}) type='UNDERWENT_PROCEDURE' properties={}\n",
            "source=Node(id='Mr.', type='Person', properties={}) target=Node(id='Cardiopulmonary Resuscitation', type='Medical procedure', properties={}) type='UNDERWENT_PROCEDURE' properties={}\n",
            "source=Node(id='Mr.', type='Person', properties={}) target=Node(id='Incisional Hernia Repair', type='Medical procedure', properties={}) type='UNDERWENT_PROCEDURE' properties={}\n",
            "source=Node(id='Mr.', type='Person', properties={}) target=Node(id='Anastomosis Of Hepatic Duct To Gastrointestinal Tract', type='Medical procedure', properties={}) type='UNDERWENT_PROCEDURE' properties={}\n",
            "source=Node(id='Mr.', type='Person', properties={}) target=Node(id='Unspecified Essential Hypertension', type='Disease', properties={}) type='HAS_DISEASE' properties={}\n",
            "source=Node(id='Mr.', type='Person', properties={}) target=Node(id='Cardiac Complications', type='Disease', properties={}) type='HAS_DISEASE' properties={}\n",
            "source=Node(id='Mr.', type='Person', properties={}) target=Node(id='Hemorrhage', type='Medical condition', properties={}) type='HAS_CONDITION' properties={}\n",
            "source=Node(id='Mr.', type='Person', properties={}) target=Node(id='Cardiac Arrest', type='Medical condition', properties={}) type='HAS_CONDITION' properties={}\n",
            "source=Node(id='Mr.', type='Person', properties={}) target=Node(id='Malignant Neoplasm Of Head Of Pancreas', type='Disease', properties={}) type='HAS_DISEASE' properties={}\n",
            "source=Node(id='Mr.', type='Person', properties={}) target=Node(id='Calculus Of Gallbladder', type='Disease', properties={}) type='HAS_DISEASE' properties={}\n",
            "source=Node(id='Calculus Of Gallbladder', type='Disease', properties={}) target=Node(id='Cholecystitis', type='Disease', properties={}) type='HAS_DISEASE' properties={}\n",
            "source=Node(id='Mr.', type='Person', properties={}) target=Node(id='Peritoneal Adhesions', type='Medical condition', properties={}) type='HAS_CONDITION' properties={}\n",
            "source=Node(id='Mr.', type='Person', properties={}) target=Node(id='Incisional Hernia', type='Medical condition', properties={}) type='HAS_CONDITION' properties={}\n",
            "source=Node(id='Mr.', type='Person', properties={}) target=Node(id='Surgical Operation', type='Medical procedure', properties={}) type='UNDERWENT_PROCEDURE' properties={}\n",
            "source=Node(id='Surgical Operation', type='Medical procedure', properties={}) target=Node(id='Abnormal Patient Reaction', type='Medical condition', properties={}) type='CAUSES' properties={}\n",
            "source=Node(id='Surgical Operation', type='Medical procedure', properties={}) target=Node(id='Complication', type='Medical condition', properties={}) type='CAUSES' properties={}\n"
          ]
        }
      ]
    },
    {
      "cell_type": "code",
      "source": [
        "graph.add_graph_documents(graph_doc)"
      ],
      "metadata": {
        "id": "joBqCRO1722E"
      },
      "execution_count": 36,
      "outputs": []
    },
    {
      "cell_type": "code",
      "source": [
        "from langchain.chains import GraphCypherQAChain\n",
        "from langchain_google_genai import ChatGoogleGenerativeAI\n"
      ],
      "metadata": {
        "id": "MYwnN4ONXN81"
      },
      "execution_count": 40,
      "outputs": []
    },
    {
      "cell_type": "code",
      "source": [
        "llm = ChatGoogleGenerativeAI(\n",
        "    model=\"models/gemini-1.5-flash\",\n",
        "    google_api_key=\"\",\n",
        "    temperature=0,\n",
        "    allow_dangerous_requests=True,\n",
        ")"
      ],
      "metadata": {
        "id": "k6wxQpdi568_"
      },
      "execution_count": null,
      "outputs": []
    },
    {
      "cell_type": "code",
      "source": [
        "text=\"woman with diabetes, hypertension, hyperlipidemia and obesity, with a one to two months of chest burning with exertion. for the past six months, she has been participating in a new vigorous exercise program to lose weight. her symptoms do gradually resolve with rest, but they have started to occur now with walking. she does acknowledge that there is associated nausea, diaphoresis and shortness of breath. now recently she started to get symptoms for the past two days while at rest. she was referred for an outpatient exercise tolerance test, where she had chest pain and significant ekg changes. she was referred to for cardiac catheterization today, which revealed significant left main artery disease. just prior to her transfer to , she did complain of chest pain and back pain at about 7/10 intensity and a nitroglycerin drip was started and she received 5 mg of iv lopressor and 2 mg of iv ativan, which did resolve her pain. while she was in the cath lab, she had an intraaortic balloon pump placed, and now she is not actively complaining of any pain. review of systems: she denies any orthopnea, lower extremity edema, but she does acknowledge that she does have dysmenorrhea. prior medical history: she has diabetes mellitus, type 2, diagnosed in . she has been able to control it with diet since ; hypertension and obesity; however, she has lost 40 pounds in the last six months. she has an allergy to shellfish. medications on transfers to : atenolol 50 mg a day, lisinopril 10 mg a day, lipitor 20 mg a day, aspirin 325 mg once a day, progesterone, nitroglycerin drip, lopressor, ativan\""
      ],
      "metadata": {
        "id": "-1FTh6y0v8qn"
      },
      "execution_count": null,
      "outputs": []
    },
    {
      "cell_type": "code",
      "source": [
        "chain = GraphCypherQAChain.from_llm(graph=graph, llm=llm_query, verbose=True,allow_dangerous_requests=True)\n",
        "response = chain.invoke(text)"
      ],
      "metadata": {
        "colab": {
          "base_uri": "https://localhost:8080/"
        },
        "id": "btbmTXv_57os",
        "outputId": "94040952-3fa6-4401-bb1c-8beaccce66e6"
      },
      "execution_count": 43,
      "outputs": [
        {
          "output_type": "stream",
          "name": "stdout",
          "text": [
            "\n",
            "\n",
            "\u001b[1m> Entering new GraphCypherQAChain chain...\u001b[0m\n",
            "Generated Cypher:\n",
            "\u001b[32;1m\u001b[1;3mcypher\n",
            "MATCH (d:Disease {name: \"Pancreatic Cancer\"})-[r:HAS_FINDING]->(mf:Medical_finding)\n",
            "RETURN d,r,mf\n",
            "\u001b[0m\n",
            "Full Context:\n",
            "\u001b[32;1m\u001b[1;3m[]\u001b[0m\n",
            "\n",
            "\u001b[1m> Finished chain.\u001b[0m\n"
          ]
        }
      ]
    },
    {
      "cell_type": "code",
      "source": [
        "response"
      ],
      "metadata": {
        "colab": {
          "base_uri": "https://localhost:8080/"
        },
        "id": "rfcwwAD0Mp6P",
        "outputId": "1425af21-4cda-4328-d259-6101e8288c92"
      },
      "execution_count": null,
      "outputs": [
        {
          "output_type": "execute_result",
          "data": {
            "text/plain": [
              "{'query': 'woman with diabetes, hypertension, hyperlipidemia and obesity, with a one to two months of chest burning with exertion. for the past six months, she has been participating in a new vigorous exercise program to lose weight. her symptoms do gradually resolve with rest, but they have started to occur now with walking. she does acknowledge that there is associated nausea, diaphoresis and shortness of breath. now recently she started to get symptoms for the past two days while at rest. she was referred for an outpatient exercise tolerance test, where she had chest pain and significant ekg changes. she was referred to for cardiac catheterization today, which revealed significant left main artery disease. just prior to her transfer to , she did complain of chest pain and back pain at about 7/10 intensity and a nitroglycerin drip was started and she received 5 mg of iv lopressor and 2 mg of iv ativan, which did resolve her pain. while she was in the cath lab, she had an intraaortic balloon pump placed, and now she is not actively complaining of any pain. review of systems: she denies any orthopnea, lower extremity edema, but she does acknowledge that she does have dysmenorrhea. prior medical history: she has diabetes mellitus, type 2, diagnosed in . she has been able to control it with diet since ; hypertension and obesity; however, she has lost 40 pounds in the last six months. she has an allergy to shellfish. medications on transfers to : atenolol 50 mg a day, lisinopril 10 mg a day, lipitor 20 mg a day, aspirin 325 mg once a day, progesterone, nitroglycerin drip, lopressor, ativan',\n",
              " 'result': 'This woman has a history of diabetes, hypertension, hyperlipidemia, and obesity.  She recently experienced chest burning with exertion, worsening over the past six months despite a vigorous exercise program.  Symptoms included nausea, diaphoresis, and shortness of breath, initially resolving with rest but progressing to occur even with walking.  Recently, she began experiencing rest angina.  An exercise tolerance test showed chest pain and significant EKG changes, leading to cardiac catheterization which revealed significant left main artery disease.  She presented with 7/10 chest and back pain, treated with nitroglycerin, lopressor, and ativan.  An intra-aortic balloon pump was placed.  She denies orthopnea and lower extremity edema, but reports dysmenorrhea.  Her current medications include atenolol, lisinopril, lipitor, aspirin, progesterone, and a nitroglycerin drip.  She has a shellfish allergy.'}"
            ]
          },
          "metadata": {},
          "execution_count": 154
        }
      ]
    },
    {
      "cell_type": "code",
      "source": [
        "response = chain.invoke(\"What are the possible complications of peripheral vascular disease\")\n",
        "print(response)"
      ],
      "metadata": {
        "id": "p9Vw-6evx4Du",
        "outputId": "9cea7231-9d85-44cd-a262-9715c4524527",
        "colab": {
          "base_uri": "https://localhost:8080/"
        }
      },
      "execution_count": null,
      "outputs": [
        {
          "output_type": "stream",
          "name": "stdout",
          "text": [
            "\n",
            "\n",
            "\u001b[1m> Entering new GraphCypherQAChain chain...\u001b[0m\n",
            "Generated Cypher:\n",
            "\u001b[32;1m\u001b[1;3mcypher\n",
            "MATCH (p:Disease {id: \"peripheral vascular disease\"})<-[:HOSPITAL_COMPLICATION]-(patient:Patient)\n",
            "RETURN DISTINCT p, patient\n",
            "\u001b[0m\n",
            "Full Context:\n",
            "\u001b[32;1m\u001b[1;3m[]\u001b[0m\n",
            "\n",
            "\u001b[1m> Finished chain.\u001b[0m\n",
            "{'query': 'What are the possible complications of peripheral vascular disease', 'result': \"I don't know the answer.\"}\n"
          ]
        }
      ]
    },
    {
      "cell_type": "code",
      "source": [
        "!pip install langchain_neo4j"
      ],
      "metadata": {
        "colab": {
          "base_uri": "https://localhost:8080/"
        },
        "id": "TnXoMyE__TJq",
        "outputId": "958522dd-1cf6-4d70-dabb-5e7b04e9ff26"
      },
      "execution_count": null,
      "outputs": [
        {
          "output_type": "stream",
          "name": "stdout",
          "text": [
            "Requirement already satisfied: langchain_neo4j in /usr/local/lib/python3.11/dist-packages (0.4.0)\n",
            "Requirement already satisfied: langchain<0.4.0,>=0.3.7 in /usr/local/lib/python3.11/dist-packages (from langchain_neo4j) (0.3.21)\n",
            "Requirement already satisfied: langchain-core<0.4.0,>=0.3.8 in /usr/local/lib/python3.11/dist-packages (from langchain_neo4j) (0.3.47)\n",
            "Requirement already satisfied: neo4j<6.0.0,>=5.25.0 in /usr/local/lib/python3.11/dist-packages (from langchain_neo4j) (5.28.1)\n",
            "Requirement already satisfied: neo4j-graphrag<2.0.0,>=1.5.0 in /usr/local/lib/python3.11/dist-packages (from langchain_neo4j) (1.6.0)\n",
            "Requirement already satisfied: langchain-text-splitters<1.0.0,>=0.3.7 in /usr/local/lib/python3.11/dist-packages (from langchain<0.4.0,>=0.3.7->langchain_neo4j) (0.3.7)\n",
            "Requirement already satisfied: langsmith<0.4,>=0.1.17 in /usr/local/lib/python3.11/dist-packages (from langchain<0.4.0,>=0.3.7->langchain_neo4j) (0.3.15)\n",
            "Requirement already satisfied: pydantic<3.0.0,>=2.7.4 in /usr/local/lib/python3.11/dist-packages (from langchain<0.4.0,>=0.3.7->langchain_neo4j) (2.10.6)\n",
            "Requirement already satisfied: SQLAlchemy<3,>=1.4 in /usr/local/lib/python3.11/dist-packages (from langchain<0.4.0,>=0.3.7->langchain_neo4j) (2.0.39)\n",
            "Requirement already satisfied: requests<3,>=2 in /usr/local/lib/python3.11/dist-packages (from langchain<0.4.0,>=0.3.7->langchain_neo4j) (2.32.3)\n",
            "Requirement already satisfied: PyYAML>=5.3 in /usr/local/lib/python3.11/dist-packages (from langchain<0.4.0,>=0.3.7->langchain_neo4j) (6.0.2)\n",
            "Requirement already satisfied: tenacity!=8.4.0,<10.0.0,>=8.1.0 in /usr/local/lib/python3.11/dist-packages (from langchain-core<0.4.0,>=0.3.8->langchain_neo4j) (9.0.0)\n",
            "Requirement already satisfied: jsonpatch<2.0,>=1.33 in /usr/local/lib/python3.11/dist-packages (from langchain-core<0.4.0,>=0.3.8->langchain_neo4j) (1.33)\n",
            "Requirement already satisfied: packaging<25,>=23.2 in /usr/local/lib/python3.11/dist-packages (from langchain-core<0.4.0,>=0.3.8->langchain_neo4j) (24.2)\n",
            "Requirement already satisfied: typing-extensions>=4.7 in /usr/local/lib/python3.11/dist-packages (from langchain-core<0.4.0,>=0.3.8->langchain_neo4j) (4.12.2)\n",
            "Requirement already satisfied: pytz in /usr/local/lib/python3.11/dist-packages (from neo4j<6.0.0,>=5.25.0->langchain_neo4j) (2025.1)\n",
            "Requirement already satisfied: fsspec<2025.0.0,>=2024.9.0 in /usr/local/lib/python3.11/dist-packages (from neo4j-graphrag<2.0.0,>=1.5.0->langchain_neo4j) (2024.12.0)\n",
            "Requirement already satisfied: json-repair<0.40.0,>=0.39.1 in /usr/local/lib/python3.11/dist-packages (from neo4j-graphrag<2.0.0,>=1.5.0->langchain_neo4j) (0.39.1)\n",
            "Requirement already satisfied: pypdf<6.0.0,>=5.1.0 in /usr/local/lib/python3.11/dist-packages (from neo4j-graphrag<2.0.0,>=1.5.0->langchain_neo4j) (5.4.0)\n",
            "Requirement already satisfied: types-pyyaml<7.0.0.0,>=6.0.12.20240917 in /usr/local/lib/python3.11/dist-packages (from neo4j-graphrag<2.0.0,>=1.5.0->langchain_neo4j) (6.0.12.20241230)\n",
            "Requirement already satisfied: jsonpointer>=1.9 in /usr/local/lib/python3.11/dist-packages (from jsonpatch<2.0,>=1.33->langchain-core<0.4.0,>=0.3.8->langchain_neo4j) (3.0.0)\n",
            "Requirement already satisfied: httpx<1,>=0.23.0 in /usr/local/lib/python3.11/dist-packages (from langsmith<0.4,>=0.1.17->langchain<0.4.0,>=0.3.7->langchain_neo4j) (0.28.1)\n",
            "Requirement already satisfied: orjson<4.0.0,>=3.9.14 in /usr/local/lib/python3.11/dist-packages (from langsmith<0.4,>=0.1.17->langchain<0.4.0,>=0.3.7->langchain_neo4j) (3.10.15)\n",
            "Requirement already satisfied: requests-toolbelt<2.0.0,>=1.0.0 in /usr/local/lib/python3.11/dist-packages (from langsmith<0.4,>=0.1.17->langchain<0.4.0,>=0.3.7->langchain_neo4j) (1.0.0)\n",
            "Requirement already satisfied: zstandard<0.24.0,>=0.23.0 in /usr/local/lib/python3.11/dist-packages (from langsmith<0.4,>=0.1.17->langchain<0.4.0,>=0.3.7->langchain_neo4j) (0.23.0)\n",
            "Requirement already satisfied: annotated-types>=0.6.0 in /usr/local/lib/python3.11/dist-packages (from pydantic<3.0.0,>=2.7.4->langchain<0.4.0,>=0.3.7->langchain_neo4j) (0.7.0)\n",
            "Requirement already satisfied: pydantic-core==2.27.2 in /usr/local/lib/python3.11/dist-packages (from pydantic<3.0.0,>=2.7.4->langchain<0.4.0,>=0.3.7->langchain_neo4j) (2.27.2)\n",
            "Requirement already satisfied: charset-normalizer<4,>=2 in /usr/local/lib/python3.11/dist-packages (from requests<3,>=2->langchain<0.4.0,>=0.3.7->langchain_neo4j) (3.4.1)\n",
            "Requirement already satisfied: idna<4,>=2.5 in /usr/local/lib/python3.11/dist-packages (from requests<3,>=2->langchain<0.4.0,>=0.3.7->langchain_neo4j) (3.10)\n",
            "Requirement already satisfied: urllib3<3,>=1.21.1 in /usr/local/lib/python3.11/dist-packages (from requests<3,>=2->langchain<0.4.0,>=0.3.7->langchain_neo4j) (2.3.0)\n",
            "Requirement already satisfied: certifi>=2017.4.17 in /usr/local/lib/python3.11/dist-packages (from requests<3,>=2->langchain<0.4.0,>=0.3.7->langchain_neo4j) (2025.1.31)\n",
            "Requirement already satisfied: greenlet!=0.4.17 in /usr/local/lib/python3.11/dist-packages (from SQLAlchemy<3,>=1.4->langchain<0.4.0,>=0.3.7->langchain_neo4j) (3.1.1)\n",
            "Requirement already satisfied: anyio in /usr/local/lib/python3.11/dist-packages (from httpx<1,>=0.23.0->langsmith<0.4,>=0.1.17->langchain<0.4.0,>=0.3.7->langchain_neo4j) (4.9.0)\n",
            "Requirement already satisfied: httpcore==1.* in /usr/local/lib/python3.11/dist-packages (from httpx<1,>=0.23.0->langsmith<0.4,>=0.1.17->langchain<0.4.0,>=0.3.7->langchain_neo4j) (1.0.7)\n",
            "Requirement already satisfied: h11<0.15,>=0.13 in /usr/local/lib/python3.11/dist-packages (from httpcore==1.*->httpx<1,>=0.23.0->langsmith<0.4,>=0.1.17->langchain<0.4.0,>=0.3.7->langchain_neo4j) (0.14.0)\n",
            "Requirement already satisfied: sniffio>=1.1 in /usr/local/lib/python3.11/dist-packages (from anyio->httpx<1,>=0.23.0->langsmith<0.4,>=0.1.17->langchain<0.4.0,>=0.3.7->langchain_neo4j) (1.3.1)\n"
          ]
        }
      ]
    },
    {
      "cell_type": "code",
      "source": [
        "graph_qa = GraphCypherQAChain.from_llm(\n",
        "    graph=graph,\n",
        "    llm=llm,\n",
        "    cypher_template=\"\"\"\n",
        "    MATCH (d:Disease {id: $disease})-[:LIKELY]->(complication:Disease)\n",
        "    RETURN complication.id\n",
        "    \"\"\",\n",
        "    return_intermediate_steps=True,\n",
        "    allow_dangerous_requests=True,\n",
        ")\n",
        "response = graph_qa.invoke(\"What are the possible complications of peripheral vascular disease in this case\")\n",
        "response"
      ],
      "metadata": {
        "colab": {
          "base_uri": "https://localhost:8080/"
        },
        "id": "z4BzE9a07-SP",
        "outputId": "21bc64b6-93c9-4b56-97ad-7f00c4fe3288"
      },
      "execution_count": null,
      "outputs": [
        {
          "output_type": "stream",
          "name": "stderr",
          "text": [
            "WARNING:neo4j.notifications:Received notification from DBMS server: {severity: WARNING} {code: Neo.ClientNotification.Statement.UnknownLabelWarning} {category: UNRECOGNIZED} {title: The provided label is not in the database.} {description: One of the labels in your query is not available in the database, make sure you didn't misspell it or that the label is available when you run this statement in your application (the missing label name is: MajorTopic)} {position: line: 1, column: 42, offset: 41} for query: 'MATCH (d:Document)-[:HAS_MAJOR_TOPIC]->(:MajorTopic {name: \"peripheral vascular disease\"})\\nRETURN d.title, d.abstract'\n",
            "WARNING:neo4j.notifications:Received notification from DBMS server: {severity: WARNING} {code: Neo.ClientNotification.Statement.UnknownPropertyKeyWarning} {category: UNRECOGNIZED} {title: The provided property key is not in the database} {description: One of the property names in your query is not available in the database, make sure you didn't misspell it or that the label is available when you run this statement in your application (the missing property name is: title)} {position: line: 2, column: 10, offset: 100} for query: 'MATCH (d:Document)-[:HAS_MAJOR_TOPIC]->(:MajorTopic {name: \"peripheral vascular disease\"})\\nRETURN d.title, d.abstract'\n",
            "WARNING:neo4j.notifications:Received notification from DBMS server: {severity: WARNING} {code: Neo.ClientNotification.Statement.UnknownRelationshipTypeWarning} {category: UNRECOGNIZED} {title: The provided relationship type is not in the database.} {description: One of the relationship types in your query is not available in the database, make sure you didn't misspell it or that the label is available when you run this statement in your application (the missing relationship type is: HAS_MAJOR_TOPIC)} {position: line: 1, column: 22, offset: 21} for query: 'MATCH (d:Document)-[:HAS_MAJOR_TOPIC]->(:MajorTopic {name: \"peripheral vascular disease\"})\\nRETURN d.title, d.abstract'\n",
            "WARNING:neo4j.notifications:Received notification from DBMS server: {severity: WARNING} {code: Neo.ClientNotification.Statement.UnknownLabelWarning} {category: UNRECOGNIZED} {title: The provided label is not in the database.} {description: One of the labels in your query is not available in the database, make sure you didn't misspell it or that the label is available when you run this statement in your application (the missing label name is: Document)} {position: line: 1, column: 10, offset: 9} for query: 'MATCH (d:Document)-[:HAS_MAJOR_TOPIC]->(:MajorTopic {name: \"peripheral vascular disease\"})\\nRETURN d.title, d.abstract'\n",
            "WARNING:neo4j.notifications:Received notification from DBMS server: {severity: WARNING} {code: Neo.ClientNotification.Statement.UnknownPropertyKeyWarning} {category: UNRECOGNIZED} {title: The provided property key is not in the database} {description: One of the property names in your query is not available in the database, make sure you didn't misspell it or that the label is available when you run this statement in your application (the missing property name is: abstract)} {position: line: 2, column: 19, offset: 109} for query: 'MATCH (d:Document)-[:HAS_MAJOR_TOPIC]->(:MajorTopic {name: \"peripheral vascular disease\"})\\nRETURN d.title, d.abstract'\n"
          ]
        },
        {
          "output_type": "execute_result",
          "data": {
            "text/plain": [
              "{'query': 'What are the possible complications of peripheral vascular disease in this case',\n",
              " 'result': \"I don't know the answer.\",\n",
              " 'intermediate_steps': [{'query': 'MATCH (d:Document)-[:HAS_MAJOR_TOPIC]->(:MajorTopic {name: \"peripheral vascular disease\"})\\nRETURN d.title, d.abstract'},\n",
              "  {'context': []}]}"
            ]
          },
          "metadata": {},
          "execution_count": 63
        }
      ]
    },
    {
      "cell_type": "code",
      "source": [
        "graph_qa = GraphCypherQAChain.from_llm(\n",
        "    graph=graph,\n",
        "    llm=llm,\n",
        "    cypher_template=\"\"\"\n",
        "    MATCH (d:Disease {id: $disease})-[r]->(complication:Disease)\n",
        "    RETURN type(r) AS relationship_type, complication.id\n",
        "    \"\"\",\n",
        "    return_intermediate_steps=True,\n",
        "    allow_dangerous_requests=True,\n",
        "    verbose=True  # Enable verbose mode if available\n",
        ")\n",
        "\n"
      ],
      "metadata": {
        "id": "pB7G-1Hs-rG-"
      },
      "execution_count": null,
      "outputs": []
    },
    {
      "cell_type": "code",
      "source": [
        "response = graph_qa.invoke(\"What are the possible complications of peripheral vascular disease\")\n",
        "print(response)"
      ],
      "metadata": {
        "colab": {
          "base_uri": "https://localhost:8080/",
          "height": 738
        },
        "id": "5lW5Sf_1Aoe_",
        "outputId": "1c83b371-30df-48b8-9fc8-b7b92deeabe2"
      },
      "execution_count": null,
      "outputs": [
        {
          "output_type": "stream",
          "name": "stdout",
          "text": [
            "\n",
            "\n",
            "\u001b[1m> Entering new GraphCypherQAChain chain...\u001b[0m\n"
          ]
        },
        {
          "output_type": "error",
          "ename": "ChatGoogleGenerativeAIError",
          "evalue": "Invalid argument provided to Gemini: 400 API Key not found. Please pass a valid API key. [reason: \"API_KEY_INVALID\"\ndomain: \"googleapis.com\"\nmetadata {\n  key: \"service\"\n  value: \"generativelanguage.googleapis.com\"\n}\n, locale: \"en-US\"\nmessage: \"API Key not found. Please pass a valid API key.\"\n]",
          "traceback": [
            "\u001b[0;31m---------------------------------------------------------------------------\u001b[0m",
            "\u001b[0;31mInvalidArgument\u001b[0m                           Traceback (most recent call last)",
            "\u001b[0;32m/usr/local/lib/python3.11/dist-packages/langchain_google_genai/chat_models.py\u001b[0m in \u001b[0;36m_chat_with_retry\u001b[0;34m(**kwargs)\u001b[0m\n\u001b[1;32m    188\u001b[0m         \u001b[0;32mtry\u001b[0m\u001b[0;34m:\u001b[0m\u001b[0;34m\u001b[0m\u001b[0;34m\u001b[0m\u001b[0m\n\u001b[0;32m--> 189\u001b[0;31m             \u001b[0;32mreturn\u001b[0m \u001b[0mgeneration_method\u001b[0m\u001b[0;34m(\u001b[0m\u001b[0;34m**\u001b[0m\u001b[0mkwargs\u001b[0m\u001b[0;34m)\u001b[0m\u001b[0;34m\u001b[0m\u001b[0;34m\u001b[0m\u001b[0m\n\u001b[0m\u001b[1;32m    190\u001b[0m         \u001b[0;31m# Do not retry for these errors.\u001b[0m\u001b[0;34m\u001b[0m\u001b[0;34m\u001b[0m\u001b[0m\n",
            "\u001b[0;32m/usr/local/lib/python3.11/dist-packages/google/ai/generativelanguage_v1beta/services/generative_service/client.py\u001b[0m in \u001b[0;36mgenerate_content\u001b[0;34m(self, request, model, contents, retry, timeout, metadata)\u001b[0m\n\u001b[1;32m    866\u001b[0m         \u001b[0;31m# Send the request.\u001b[0m\u001b[0;34m\u001b[0m\u001b[0;34m\u001b[0m\u001b[0m\n\u001b[0;32m--> 867\u001b[0;31m         response = rpc(\n\u001b[0m\u001b[1;32m    868\u001b[0m             \u001b[0mrequest\u001b[0m\u001b[0;34m,\u001b[0m\u001b[0;34m\u001b[0m\u001b[0;34m\u001b[0m\u001b[0m\n",
            "\u001b[0;32m/usr/local/lib/python3.11/dist-packages/google/api_core/gapic_v1/method.py\u001b[0m in \u001b[0;36m__call__\u001b[0;34m(self, timeout, retry, compression, *args, **kwargs)\u001b[0m\n\u001b[1;32m    130\u001b[0m \u001b[0;34m\u001b[0m\u001b[0m\n\u001b[0;32m--> 131\u001b[0;31m         \u001b[0;32mreturn\u001b[0m \u001b[0mwrapped_func\u001b[0m\u001b[0;34m(\u001b[0m\u001b[0;34m*\u001b[0m\u001b[0margs\u001b[0m\u001b[0;34m,\u001b[0m \u001b[0;34m**\u001b[0m\u001b[0mkwargs\u001b[0m\u001b[0;34m)\u001b[0m\u001b[0;34m\u001b[0m\u001b[0;34m\u001b[0m\u001b[0m\n\u001b[0m\u001b[1;32m    132\u001b[0m \u001b[0;34m\u001b[0m\u001b[0m\n",
            "\u001b[0;32m/usr/local/lib/python3.11/dist-packages/google/api_core/retry/retry_unary.py\u001b[0m in \u001b[0;36mretry_wrapped_func\u001b[0;34m(*args, **kwargs)\u001b[0m\n\u001b[1;32m    292\u001b[0m             )\n\u001b[0;32m--> 293\u001b[0;31m             return retry_target(\n\u001b[0m\u001b[1;32m    294\u001b[0m                 \u001b[0mtarget\u001b[0m\u001b[0;34m,\u001b[0m\u001b[0;34m\u001b[0m\u001b[0;34m\u001b[0m\u001b[0m\n",
            "\u001b[0;32m/usr/local/lib/python3.11/dist-packages/google/api_core/retry/retry_unary.py\u001b[0m in \u001b[0;36mretry_target\u001b[0;34m(target, predicate, sleep_generator, timeout, on_error, exception_factory, **kwargs)\u001b[0m\n\u001b[1;32m    152\u001b[0m             \u001b[0;31m# defer to shared logic for handling errors\u001b[0m\u001b[0;34m\u001b[0m\u001b[0;34m\u001b[0m\u001b[0m\n\u001b[0;32m--> 153\u001b[0;31m             _retry_error_helper(\n\u001b[0m\u001b[1;32m    154\u001b[0m                 \u001b[0mexc\u001b[0m\u001b[0;34m,\u001b[0m\u001b[0;34m\u001b[0m\u001b[0;34m\u001b[0m\u001b[0m\n",
            "\u001b[0;32m/usr/local/lib/python3.11/dist-packages/google/api_core/retry/retry_base.py\u001b[0m in \u001b[0;36m_retry_error_helper\u001b[0;34m(exc, deadline, next_sleep, error_list, predicate_fn, on_error_fn, exc_factory_fn, original_timeout)\u001b[0m\n\u001b[1;32m    211\u001b[0m         )\n\u001b[0;32m--> 212\u001b[0;31m         \u001b[0;32mraise\u001b[0m \u001b[0mfinal_exc\u001b[0m \u001b[0;32mfrom\u001b[0m \u001b[0msource_exc\u001b[0m\u001b[0;34m\u001b[0m\u001b[0;34m\u001b[0m\u001b[0m\n\u001b[0m\u001b[1;32m    213\u001b[0m     \u001b[0;32mif\u001b[0m \u001b[0mon_error_fn\u001b[0m \u001b[0;32mis\u001b[0m \u001b[0;32mnot\u001b[0m \u001b[0;32mNone\u001b[0m\u001b[0;34m:\u001b[0m\u001b[0;34m\u001b[0m\u001b[0;34m\u001b[0m\u001b[0m\n",
            "\u001b[0;32m/usr/local/lib/python3.11/dist-packages/google/api_core/retry/retry_unary.py\u001b[0m in \u001b[0;36mretry_target\u001b[0;34m(target, predicate, sleep_generator, timeout, on_error, exception_factory, **kwargs)\u001b[0m\n\u001b[1;32m    143\u001b[0m         \u001b[0;32mtry\u001b[0m\u001b[0;34m:\u001b[0m\u001b[0;34m\u001b[0m\u001b[0;34m\u001b[0m\u001b[0m\n\u001b[0;32m--> 144\u001b[0;31m             \u001b[0mresult\u001b[0m \u001b[0;34m=\u001b[0m \u001b[0mtarget\u001b[0m\u001b[0;34m(\u001b[0m\u001b[0;34m)\u001b[0m\u001b[0;34m\u001b[0m\u001b[0;34m\u001b[0m\u001b[0m\n\u001b[0m\u001b[1;32m    145\u001b[0m             \u001b[0;32mif\u001b[0m \u001b[0minspect\u001b[0m\u001b[0;34m.\u001b[0m\u001b[0misawaitable\u001b[0m\u001b[0;34m(\u001b[0m\u001b[0mresult\u001b[0m\u001b[0;34m)\u001b[0m\u001b[0;34m:\u001b[0m\u001b[0;34m\u001b[0m\u001b[0;34m\u001b[0m\u001b[0m\n",
            "\u001b[0;32m/usr/local/lib/python3.11/dist-packages/google/api_core/timeout.py\u001b[0m in \u001b[0;36mfunc_with_timeout\u001b[0;34m(*args, **kwargs)\u001b[0m\n\u001b[1;32m    129\u001b[0m \u001b[0;34m\u001b[0m\u001b[0m\n\u001b[0;32m--> 130\u001b[0;31m             \u001b[0;32mreturn\u001b[0m \u001b[0mfunc\u001b[0m\u001b[0;34m(\u001b[0m\u001b[0;34m*\u001b[0m\u001b[0margs\u001b[0m\u001b[0;34m,\u001b[0m \u001b[0;34m**\u001b[0m\u001b[0mkwargs\u001b[0m\u001b[0;34m)\u001b[0m\u001b[0;34m\u001b[0m\u001b[0;34m\u001b[0m\u001b[0m\n\u001b[0m\u001b[1;32m    131\u001b[0m \u001b[0;34m\u001b[0m\u001b[0m\n",
            "\u001b[0;32m/usr/local/lib/python3.11/dist-packages/google/api_core/grpc_helpers.py\u001b[0m in \u001b[0;36merror_remapped_callable\u001b[0;34m(*args, **kwargs)\u001b[0m\n\u001b[1;32m     77\u001b[0m         \u001b[0;32mexcept\u001b[0m \u001b[0mgrpc\u001b[0m\u001b[0;34m.\u001b[0m\u001b[0mRpcError\u001b[0m \u001b[0;32mas\u001b[0m \u001b[0mexc\u001b[0m\u001b[0;34m:\u001b[0m\u001b[0;34m\u001b[0m\u001b[0;34m\u001b[0m\u001b[0m\n\u001b[0;32m---> 78\u001b[0;31m             \u001b[0;32mraise\u001b[0m \u001b[0mexceptions\u001b[0m\u001b[0;34m.\u001b[0m\u001b[0mfrom_grpc_error\u001b[0m\u001b[0;34m(\u001b[0m\u001b[0mexc\u001b[0m\u001b[0;34m)\u001b[0m \u001b[0;32mfrom\u001b[0m \u001b[0mexc\u001b[0m\u001b[0;34m\u001b[0m\u001b[0;34m\u001b[0m\u001b[0m\n\u001b[0m\u001b[1;32m     79\u001b[0m \u001b[0;34m\u001b[0m\u001b[0m\n",
            "\u001b[0;31mInvalidArgument\u001b[0m: 400 API Key not found. Please pass a valid API key. [reason: \"API_KEY_INVALID\"\ndomain: \"googleapis.com\"\nmetadata {\n  key: \"service\"\n  value: \"generativelanguage.googleapis.com\"\n}\n, locale: \"en-US\"\nmessage: \"API Key not found. Please pass a valid API key.\"\n]",
            "\nThe above exception was the direct cause of the following exception:\n",
            "\u001b[0;31mChatGoogleGenerativeAIError\u001b[0m               Traceback (most recent call last)",
            "\u001b[0;32m<ipython-input-155-0ba8f3f3280e>\u001b[0m in \u001b[0;36m<cell line: 0>\u001b[0;34m()\u001b[0m\n\u001b[0;32m----> 1\u001b[0;31m \u001b[0mresponse\u001b[0m \u001b[0;34m=\u001b[0m \u001b[0mgraph_qa\u001b[0m\u001b[0;34m.\u001b[0m\u001b[0minvoke\u001b[0m\u001b[0;34m(\u001b[0m\u001b[0;34m\"What are the possible complications of peripheral vascular disease\"\u001b[0m\u001b[0;34m)\u001b[0m\u001b[0;34m\u001b[0m\u001b[0;34m\u001b[0m\u001b[0m\n\u001b[0m\u001b[1;32m      2\u001b[0m \u001b[0mprint\u001b[0m\u001b[0;34m(\u001b[0m\u001b[0mresponse\u001b[0m\u001b[0;34m)\u001b[0m\u001b[0;34m\u001b[0m\u001b[0;34m\u001b[0m\u001b[0m\n",
            "\u001b[0;32m/usr/local/lib/python3.11/dist-packages/langchain/chains/base.py\u001b[0m in \u001b[0;36minvoke\u001b[0;34m(self, input, config, **kwargs)\u001b[0m\n\u001b[1;32m    168\u001b[0m         \u001b[0;32mexcept\u001b[0m \u001b[0mBaseException\u001b[0m \u001b[0;32mas\u001b[0m \u001b[0me\u001b[0m\u001b[0;34m:\u001b[0m\u001b[0;34m\u001b[0m\u001b[0;34m\u001b[0m\u001b[0m\n\u001b[1;32m    169\u001b[0m             \u001b[0mrun_manager\u001b[0m\u001b[0;34m.\u001b[0m\u001b[0mon_chain_error\u001b[0m\u001b[0;34m(\u001b[0m\u001b[0me\u001b[0m\u001b[0;34m)\u001b[0m\u001b[0;34m\u001b[0m\u001b[0;34m\u001b[0m\u001b[0m\n\u001b[0;32m--> 170\u001b[0;31m             \u001b[0;32mraise\u001b[0m \u001b[0me\u001b[0m\u001b[0;34m\u001b[0m\u001b[0;34m\u001b[0m\u001b[0m\n\u001b[0m\u001b[1;32m    171\u001b[0m         \u001b[0mrun_manager\u001b[0m\u001b[0;34m.\u001b[0m\u001b[0mon_chain_end\u001b[0m\u001b[0;34m(\u001b[0m\u001b[0moutputs\u001b[0m\u001b[0;34m)\u001b[0m\u001b[0;34m\u001b[0m\u001b[0;34m\u001b[0m\u001b[0m\n\u001b[1;32m    172\u001b[0m \u001b[0;34m\u001b[0m\u001b[0m\n",
            "\u001b[0;32m/usr/local/lib/python3.11/dist-packages/langchain/chains/base.py\u001b[0m in \u001b[0;36minvoke\u001b[0;34m(self, input, config, **kwargs)\u001b[0m\n\u001b[1;32m    158\u001b[0m             \u001b[0mself\u001b[0m\u001b[0;34m.\u001b[0m\u001b[0m_validate_inputs\u001b[0m\u001b[0;34m(\u001b[0m\u001b[0minputs\u001b[0m\u001b[0;34m)\u001b[0m\u001b[0;34m\u001b[0m\u001b[0;34m\u001b[0m\u001b[0m\n\u001b[1;32m    159\u001b[0m             outputs = (\n\u001b[0;32m--> 160\u001b[0;31m                 \u001b[0mself\u001b[0m\u001b[0;34m.\u001b[0m\u001b[0m_call\u001b[0m\u001b[0;34m(\u001b[0m\u001b[0minputs\u001b[0m\u001b[0;34m,\u001b[0m \u001b[0mrun_manager\u001b[0m\u001b[0;34m=\u001b[0m\u001b[0mrun_manager\u001b[0m\u001b[0;34m)\u001b[0m\u001b[0;34m\u001b[0m\u001b[0;34m\u001b[0m\u001b[0m\n\u001b[0m\u001b[1;32m    161\u001b[0m                 \u001b[0;32mif\u001b[0m \u001b[0mnew_arg_supported\u001b[0m\u001b[0;34m\u001b[0m\u001b[0;34m\u001b[0m\u001b[0m\n\u001b[1;32m    162\u001b[0m                 \u001b[0;32melse\u001b[0m \u001b[0mself\u001b[0m\u001b[0;34m.\u001b[0m\u001b[0m_call\u001b[0m\u001b[0;34m(\u001b[0m\u001b[0minputs\u001b[0m\u001b[0;34m)\u001b[0m\u001b[0;34m\u001b[0m\u001b[0;34m\u001b[0m\u001b[0m\n",
            "\u001b[0;32m/usr/local/lib/python3.11/dist-packages/langchain_community/chains/graph_qa/cypher.py\u001b[0m in \u001b[0;36m_call\u001b[0;34m(self, inputs, run_manager)\u001b[0m\n\u001b[1;32m    371\u001b[0m         \u001b[0mintermediate_steps\u001b[0m\u001b[0;34m:\u001b[0m \u001b[0mList\u001b[0m \u001b[0;34m=\u001b[0m \u001b[0;34m[\u001b[0m\u001b[0;34m]\u001b[0m\u001b[0;34m\u001b[0m\u001b[0;34m\u001b[0m\u001b[0m\n\u001b[1;32m    372\u001b[0m \u001b[0;34m\u001b[0m\u001b[0m\n\u001b[0;32m--> 373\u001b[0;31m         \u001b[0mgenerated_cypher\u001b[0m \u001b[0;34m=\u001b[0m \u001b[0mself\u001b[0m\u001b[0;34m.\u001b[0m\u001b[0mcypher_generation_chain\u001b[0m\u001b[0;34m.\u001b[0m\u001b[0mrun\u001b[0m\u001b[0;34m(\u001b[0m\u001b[0margs\u001b[0m\u001b[0;34m,\u001b[0m \u001b[0mcallbacks\u001b[0m\u001b[0;34m=\u001b[0m\u001b[0mcallbacks\u001b[0m\u001b[0;34m)\u001b[0m\u001b[0;34m\u001b[0m\u001b[0;34m\u001b[0m\u001b[0m\n\u001b[0m\u001b[1;32m    374\u001b[0m \u001b[0;34m\u001b[0m\u001b[0m\n\u001b[1;32m    375\u001b[0m         \u001b[0;31m# Extract Cypher code if it is wrapped in backticks\u001b[0m\u001b[0;34m\u001b[0m\u001b[0;34m\u001b[0m\u001b[0m\n",
            "\u001b[0;32m/usr/local/lib/python3.11/dist-packages/langchain_core/_api/deprecation.py\u001b[0m in \u001b[0;36mwarning_emitting_wrapper\u001b[0;34m(*args, **kwargs)\u001b[0m\n\u001b[1;32m    179\u001b[0m                 \u001b[0mwarned\u001b[0m \u001b[0;34m=\u001b[0m \u001b[0;32mTrue\u001b[0m\u001b[0;34m\u001b[0m\u001b[0;34m\u001b[0m\u001b[0m\n\u001b[1;32m    180\u001b[0m                 \u001b[0memit_warning\u001b[0m\u001b[0;34m(\u001b[0m\u001b[0;34m)\u001b[0m\u001b[0;34m\u001b[0m\u001b[0;34m\u001b[0m\u001b[0m\n\u001b[0;32m--> 181\u001b[0;31m             \u001b[0;32mreturn\u001b[0m \u001b[0mwrapped\u001b[0m\u001b[0;34m(\u001b[0m\u001b[0;34m*\u001b[0m\u001b[0margs\u001b[0m\u001b[0;34m,\u001b[0m \u001b[0;34m**\u001b[0m\u001b[0mkwargs\u001b[0m\u001b[0;34m)\u001b[0m\u001b[0;34m\u001b[0m\u001b[0;34m\u001b[0m\u001b[0m\n\u001b[0m\u001b[1;32m    182\u001b[0m \u001b[0;34m\u001b[0m\u001b[0m\n\u001b[1;32m    183\u001b[0m         \u001b[0;32masync\u001b[0m \u001b[0;32mdef\u001b[0m \u001b[0mawarning_emitting_wrapper\u001b[0m\u001b[0;34m(\u001b[0m\u001b[0;34m*\u001b[0m\u001b[0margs\u001b[0m\u001b[0;34m:\u001b[0m \u001b[0mAny\u001b[0m\u001b[0;34m,\u001b[0m \u001b[0;34m**\u001b[0m\u001b[0mkwargs\u001b[0m\u001b[0;34m:\u001b[0m \u001b[0mAny\u001b[0m\u001b[0;34m)\u001b[0m \u001b[0;34m->\u001b[0m \u001b[0mAny\u001b[0m\u001b[0;34m:\u001b[0m\u001b[0;34m\u001b[0m\u001b[0;34m\u001b[0m\u001b[0m\n",
            "\u001b[0;32m/usr/local/lib/python3.11/dist-packages/langchain/chains/base.py\u001b[0m in \u001b[0;36mrun\u001b[0;34m(self, callbacks, tags, metadata, *args, **kwargs)\u001b[0m\n\u001b[1;32m    604\u001b[0m             \u001b[0;32mif\u001b[0m \u001b[0mlen\u001b[0m\u001b[0;34m(\u001b[0m\u001b[0margs\u001b[0m\u001b[0;34m)\u001b[0m \u001b[0;34m!=\u001b[0m \u001b[0;36m1\u001b[0m\u001b[0;34m:\u001b[0m\u001b[0;34m\u001b[0m\u001b[0;34m\u001b[0m\u001b[0m\n\u001b[1;32m    605\u001b[0m                 \u001b[0;32mraise\u001b[0m \u001b[0mValueError\u001b[0m\u001b[0;34m(\u001b[0m\u001b[0;34m\"`run` supports only one positional argument.\"\u001b[0m\u001b[0;34m)\u001b[0m\u001b[0;34m\u001b[0m\u001b[0;34m\u001b[0m\u001b[0m\n\u001b[0;32m--> 606\u001b[0;31m             return self(args[0], callbacks=callbacks, tags=tags, metadata=metadata)[\n\u001b[0m\u001b[1;32m    607\u001b[0m                 \u001b[0m_output_key\u001b[0m\u001b[0;34m\u001b[0m\u001b[0;34m\u001b[0m\u001b[0m\n\u001b[1;32m    608\u001b[0m             ]\n",
            "\u001b[0;32m/usr/local/lib/python3.11/dist-packages/langchain_core/_api/deprecation.py\u001b[0m in \u001b[0;36mwarning_emitting_wrapper\u001b[0;34m(*args, **kwargs)\u001b[0m\n\u001b[1;32m    179\u001b[0m                 \u001b[0mwarned\u001b[0m \u001b[0;34m=\u001b[0m \u001b[0;32mTrue\u001b[0m\u001b[0;34m\u001b[0m\u001b[0;34m\u001b[0m\u001b[0m\n\u001b[1;32m    180\u001b[0m                 \u001b[0memit_warning\u001b[0m\u001b[0;34m(\u001b[0m\u001b[0;34m)\u001b[0m\u001b[0;34m\u001b[0m\u001b[0;34m\u001b[0m\u001b[0m\n\u001b[0;32m--> 181\u001b[0;31m             \u001b[0;32mreturn\u001b[0m \u001b[0mwrapped\u001b[0m\u001b[0;34m(\u001b[0m\u001b[0;34m*\u001b[0m\u001b[0margs\u001b[0m\u001b[0;34m,\u001b[0m \u001b[0;34m**\u001b[0m\u001b[0mkwargs\u001b[0m\u001b[0;34m)\u001b[0m\u001b[0;34m\u001b[0m\u001b[0;34m\u001b[0m\u001b[0m\n\u001b[0m\u001b[1;32m    182\u001b[0m \u001b[0;34m\u001b[0m\u001b[0m\n\u001b[1;32m    183\u001b[0m         \u001b[0;32masync\u001b[0m \u001b[0;32mdef\u001b[0m \u001b[0mawarning_emitting_wrapper\u001b[0m\u001b[0;34m(\u001b[0m\u001b[0;34m*\u001b[0m\u001b[0margs\u001b[0m\u001b[0;34m:\u001b[0m \u001b[0mAny\u001b[0m\u001b[0;34m,\u001b[0m \u001b[0;34m**\u001b[0m\u001b[0mkwargs\u001b[0m\u001b[0;34m:\u001b[0m \u001b[0mAny\u001b[0m\u001b[0;34m)\u001b[0m \u001b[0;34m->\u001b[0m \u001b[0mAny\u001b[0m\u001b[0;34m:\u001b[0m\u001b[0;34m\u001b[0m\u001b[0;34m\u001b[0m\u001b[0m\n",
            "\u001b[0;32m/usr/local/lib/python3.11/dist-packages/langchain/chains/base.py\u001b[0m in \u001b[0;36m__call__\u001b[0;34m(self, inputs, return_only_outputs, callbacks, tags, metadata, run_name, include_run_info)\u001b[0m\n\u001b[1;32m    387\u001b[0m         }\n\u001b[1;32m    388\u001b[0m \u001b[0;34m\u001b[0m\u001b[0m\n\u001b[0;32m--> 389\u001b[0;31m         return self.invoke(\n\u001b[0m\u001b[1;32m    390\u001b[0m             \u001b[0minputs\u001b[0m\u001b[0;34m,\u001b[0m\u001b[0;34m\u001b[0m\u001b[0;34m\u001b[0m\u001b[0m\n\u001b[1;32m    391\u001b[0m             \u001b[0mcast\u001b[0m\u001b[0;34m(\u001b[0m\u001b[0mRunnableConfig\u001b[0m\u001b[0;34m,\u001b[0m \u001b[0;34m{\u001b[0m\u001b[0mk\u001b[0m\u001b[0;34m:\u001b[0m \u001b[0mv\u001b[0m \u001b[0;32mfor\u001b[0m \u001b[0mk\u001b[0m\u001b[0;34m,\u001b[0m \u001b[0mv\u001b[0m \u001b[0;32min\u001b[0m \u001b[0mconfig\u001b[0m\u001b[0;34m.\u001b[0m\u001b[0mitems\u001b[0m\u001b[0;34m(\u001b[0m\u001b[0;34m)\u001b[0m \u001b[0;32mif\u001b[0m \u001b[0mv\u001b[0m \u001b[0;32mis\u001b[0m \u001b[0;32mnot\u001b[0m \u001b[0;32mNone\u001b[0m\u001b[0;34m}\u001b[0m\u001b[0;34m)\u001b[0m\u001b[0;34m,\u001b[0m\u001b[0;34m\u001b[0m\u001b[0;34m\u001b[0m\u001b[0m\n",
            "\u001b[0;32m/usr/local/lib/python3.11/dist-packages/langchain/chains/base.py\u001b[0m in \u001b[0;36minvoke\u001b[0;34m(self, input, config, **kwargs)\u001b[0m\n\u001b[1;32m    168\u001b[0m         \u001b[0;32mexcept\u001b[0m \u001b[0mBaseException\u001b[0m \u001b[0;32mas\u001b[0m \u001b[0me\u001b[0m\u001b[0;34m:\u001b[0m\u001b[0;34m\u001b[0m\u001b[0;34m\u001b[0m\u001b[0m\n\u001b[1;32m    169\u001b[0m             \u001b[0mrun_manager\u001b[0m\u001b[0;34m.\u001b[0m\u001b[0mon_chain_error\u001b[0m\u001b[0;34m(\u001b[0m\u001b[0me\u001b[0m\u001b[0;34m)\u001b[0m\u001b[0;34m\u001b[0m\u001b[0;34m\u001b[0m\u001b[0m\n\u001b[0;32m--> 170\u001b[0;31m             \u001b[0;32mraise\u001b[0m \u001b[0me\u001b[0m\u001b[0;34m\u001b[0m\u001b[0;34m\u001b[0m\u001b[0m\n\u001b[0m\u001b[1;32m    171\u001b[0m         \u001b[0mrun_manager\u001b[0m\u001b[0;34m.\u001b[0m\u001b[0mon_chain_end\u001b[0m\u001b[0;34m(\u001b[0m\u001b[0moutputs\u001b[0m\u001b[0;34m)\u001b[0m\u001b[0;34m\u001b[0m\u001b[0;34m\u001b[0m\u001b[0m\n\u001b[1;32m    172\u001b[0m \u001b[0;34m\u001b[0m\u001b[0m\n",
            "\u001b[0;32m/usr/local/lib/python3.11/dist-packages/langchain/chains/base.py\u001b[0m in \u001b[0;36minvoke\u001b[0;34m(self, input, config, **kwargs)\u001b[0m\n\u001b[1;32m    158\u001b[0m             \u001b[0mself\u001b[0m\u001b[0;34m.\u001b[0m\u001b[0m_validate_inputs\u001b[0m\u001b[0;34m(\u001b[0m\u001b[0minputs\u001b[0m\u001b[0;34m)\u001b[0m\u001b[0;34m\u001b[0m\u001b[0;34m\u001b[0m\u001b[0m\n\u001b[1;32m    159\u001b[0m             outputs = (\n\u001b[0;32m--> 160\u001b[0;31m                 \u001b[0mself\u001b[0m\u001b[0;34m.\u001b[0m\u001b[0m_call\u001b[0m\u001b[0;34m(\u001b[0m\u001b[0minputs\u001b[0m\u001b[0;34m,\u001b[0m \u001b[0mrun_manager\u001b[0m\u001b[0;34m=\u001b[0m\u001b[0mrun_manager\u001b[0m\u001b[0;34m)\u001b[0m\u001b[0;34m\u001b[0m\u001b[0;34m\u001b[0m\u001b[0m\n\u001b[0m\u001b[1;32m    161\u001b[0m                 \u001b[0;32mif\u001b[0m \u001b[0mnew_arg_supported\u001b[0m\u001b[0;34m\u001b[0m\u001b[0;34m\u001b[0m\u001b[0m\n\u001b[1;32m    162\u001b[0m                 \u001b[0;32melse\u001b[0m \u001b[0mself\u001b[0m\u001b[0;34m.\u001b[0m\u001b[0m_call\u001b[0m\u001b[0;34m(\u001b[0m\u001b[0minputs\u001b[0m\u001b[0;34m)\u001b[0m\u001b[0;34m\u001b[0m\u001b[0;34m\u001b[0m\u001b[0m\n",
            "\u001b[0;32m/usr/local/lib/python3.11/dist-packages/langchain/chains/llm.py\u001b[0m in \u001b[0;36m_call\u001b[0;34m(self, inputs, run_manager)\u001b[0m\n\u001b[1;32m    124\u001b[0m         \u001b[0mrun_manager\u001b[0m\u001b[0;34m:\u001b[0m \u001b[0mOptional\u001b[0m\u001b[0;34m[\u001b[0m\u001b[0mCallbackManagerForChainRun\u001b[0m\u001b[0;34m]\u001b[0m \u001b[0;34m=\u001b[0m \u001b[0;32mNone\u001b[0m\u001b[0;34m,\u001b[0m\u001b[0;34m\u001b[0m\u001b[0;34m\u001b[0m\u001b[0m\n\u001b[1;32m    125\u001b[0m     ) -> Dict[str, str]:\n\u001b[0;32m--> 126\u001b[0;31m         \u001b[0mresponse\u001b[0m \u001b[0;34m=\u001b[0m \u001b[0mself\u001b[0m\u001b[0;34m.\u001b[0m\u001b[0mgenerate\u001b[0m\u001b[0;34m(\u001b[0m\u001b[0;34m[\u001b[0m\u001b[0minputs\u001b[0m\u001b[0;34m]\u001b[0m\u001b[0;34m,\u001b[0m \u001b[0mrun_manager\u001b[0m\u001b[0;34m=\u001b[0m\u001b[0mrun_manager\u001b[0m\u001b[0;34m)\u001b[0m\u001b[0;34m\u001b[0m\u001b[0;34m\u001b[0m\u001b[0m\n\u001b[0m\u001b[1;32m    127\u001b[0m         \u001b[0;32mreturn\u001b[0m \u001b[0mself\u001b[0m\u001b[0;34m.\u001b[0m\u001b[0mcreate_outputs\u001b[0m\u001b[0;34m(\u001b[0m\u001b[0mresponse\u001b[0m\u001b[0;34m)\u001b[0m\u001b[0;34m[\u001b[0m\u001b[0;36m0\u001b[0m\u001b[0;34m]\u001b[0m\u001b[0;34m\u001b[0m\u001b[0;34m\u001b[0m\u001b[0m\n\u001b[1;32m    128\u001b[0m \u001b[0;34m\u001b[0m\u001b[0m\n",
            "\u001b[0;32m/usr/local/lib/python3.11/dist-packages/langchain/chains/llm.py\u001b[0m in \u001b[0;36mgenerate\u001b[0;34m(self, input_list, run_manager)\u001b[0m\n\u001b[1;32m    136\u001b[0m         \u001b[0mcallbacks\u001b[0m \u001b[0;34m=\u001b[0m \u001b[0mrun_manager\u001b[0m\u001b[0;34m.\u001b[0m\u001b[0mget_child\u001b[0m\u001b[0;34m(\u001b[0m\u001b[0;34m)\u001b[0m \u001b[0;32mif\u001b[0m \u001b[0mrun_manager\u001b[0m \u001b[0;32melse\u001b[0m \u001b[0;32mNone\u001b[0m\u001b[0;34m\u001b[0m\u001b[0;34m\u001b[0m\u001b[0m\n\u001b[1;32m    137\u001b[0m         \u001b[0;32mif\u001b[0m \u001b[0misinstance\u001b[0m\u001b[0;34m(\u001b[0m\u001b[0mself\u001b[0m\u001b[0;34m.\u001b[0m\u001b[0mllm\u001b[0m\u001b[0;34m,\u001b[0m \u001b[0mBaseLanguageModel\u001b[0m\u001b[0;34m)\u001b[0m\u001b[0;34m:\u001b[0m\u001b[0;34m\u001b[0m\u001b[0;34m\u001b[0m\u001b[0m\n\u001b[0;32m--> 138\u001b[0;31m             return self.llm.generate_prompt(\n\u001b[0m\u001b[1;32m    139\u001b[0m                 \u001b[0mprompts\u001b[0m\u001b[0;34m,\u001b[0m\u001b[0;34m\u001b[0m\u001b[0;34m\u001b[0m\u001b[0m\n\u001b[1;32m    140\u001b[0m                 \u001b[0mstop\u001b[0m\u001b[0;34m,\u001b[0m\u001b[0;34m\u001b[0m\u001b[0;34m\u001b[0m\u001b[0m\n",
            "\u001b[0;32m/usr/local/lib/python3.11/dist-packages/langchain_core/language_models/chat_models.py\u001b[0m in \u001b[0;36mgenerate_prompt\u001b[0;34m(self, prompts, stop, callbacks, **kwargs)\u001b[0m\n\u001b[1;32m    841\u001b[0m     ) -> LLMResult:\n\u001b[1;32m    842\u001b[0m         \u001b[0mprompt_messages\u001b[0m \u001b[0;34m=\u001b[0m \u001b[0;34m[\u001b[0m\u001b[0mp\u001b[0m\u001b[0;34m.\u001b[0m\u001b[0mto_messages\u001b[0m\u001b[0;34m(\u001b[0m\u001b[0;34m)\u001b[0m \u001b[0;32mfor\u001b[0m \u001b[0mp\u001b[0m \u001b[0;32min\u001b[0m \u001b[0mprompts\u001b[0m\u001b[0;34m]\u001b[0m\u001b[0;34m\u001b[0m\u001b[0;34m\u001b[0m\u001b[0m\n\u001b[0;32m--> 843\u001b[0;31m         \u001b[0;32mreturn\u001b[0m \u001b[0mself\u001b[0m\u001b[0;34m.\u001b[0m\u001b[0mgenerate\u001b[0m\u001b[0;34m(\u001b[0m\u001b[0mprompt_messages\u001b[0m\u001b[0;34m,\u001b[0m \u001b[0mstop\u001b[0m\u001b[0;34m=\u001b[0m\u001b[0mstop\u001b[0m\u001b[0;34m,\u001b[0m \u001b[0mcallbacks\u001b[0m\u001b[0;34m=\u001b[0m\u001b[0mcallbacks\u001b[0m\u001b[0;34m,\u001b[0m \u001b[0;34m**\u001b[0m\u001b[0mkwargs\u001b[0m\u001b[0;34m)\u001b[0m\u001b[0;34m\u001b[0m\u001b[0;34m\u001b[0m\u001b[0m\n\u001b[0m\u001b[1;32m    844\u001b[0m \u001b[0;34m\u001b[0m\u001b[0m\n\u001b[1;32m    845\u001b[0m     async def agenerate_prompt(\n",
            "\u001b[0;32m/usr/local/lib/python3.11/dist-packages/langchain_core/language_models/chat_models.py\u001b[0m in \u001b[0;36mgenerate\u001b[0;34m(self, messages, stop, callbacks, tags, metadata, run_name, run_id, **kwargs)\u001b[0m\n\u001b[1;32m    681\u001b[0m             \u001b[0;32mtry\u001b[0m\u001b[0;34m:\u001b[0m\u001b[0;34m\u001b[0m\u001b[0;34m\u001b[0m\u001b[0m\n\u001b[1;32m    682\u001b[0m                 results.append(\n\u001b[0;32m--> 683\u001b[0;31m                     self._generate_with_cache(\n\u001b[0m\u001b[1;32m    684\u001b[0m                         \u001b[0mm\u001b[0m\u001b[0;34m,\u001b[0m\u001b[0;34m\u001b[0m\u001b[0;34m\u001b[0m\u001b[0m\n\u001b[1;32m    685\u001b[0m                         \u001b[0mstop\u001b[0m\u001b[0;34m=\u001b[0m\u001b[0mstop\u001b[0m\u001b[0;34m,\u001b[0m\u001b[0;34m\u001b[0m\u001b[0;34m\u001b[0m\u001b[0m\n",
            "\u001b[0;32m/usr/local/lib/python3.11/dist-packages/langchain_core/language_models/chat_models.py\u001b[0m in \u001b[0;36m_generate_with_cache\u001b[0;34m(self, messages, stop, run_manager, **kwargs)\u001b[0m\n\u001b[1;32m    906\u001b[0m         \u001b[0;32melse\u001b[0m\u001b[0;34m:\u001b[0m\u001b[0;34m\u001b[0m\u001b[0;34m\u001b[0m\u001b[0m\n\u001b[1;32m    907\u001b[0m             \u001b[0;32mif\u001b[0m \u001b[0minspect\u001b[0m\u001b[0;34m.\u001b[0m\u001b[0msignature\u001b[0m\u001b[0;34m(\u001b[0m\u001b[0mself\u001b[0m\u001b[0;34m.\u001b[0m\u001b[0m_generate\u001b[0m\u001b[0;34m)\u001b[0m\u001b[0;34m.\u001b[0m\u001b[0mparameters\u001b[0m\u001b[0;34m.\u001b[0m\u001b[0mget\u001b[0m\u001b[0;34m(\u001b[0m\u001b[0;34m\"run_manager\"\u001b[0m\u001b[0;34m)\u001b[0m\u001b[0;34m:\u001b[0m\u001b[0;34m\u001b[0m\u001b[0;34m\u001b[0m\u001b[0m\n\u001b[0;32m--> 908\u001b[0;31m                 result = self._generate(\n\u001b[0m\u001b[1;32m    909\u001b[0m                     \u001b[0mmessages\u001b[0m\u001b[0;34m,\u001b[0m \u001b[0mstop\u001b[0m\u001b[0;34m=\u001b[0m\u001b[0mstop\u001b[0m\u001b[0;34m,\u001b[0m \u001b[0mrun_manager\u001b[0m\u001b[0;34m=\u001b[0m\u001b[0mrun_manager\u001b[0m\u001b[0;34m,\u001b[0m \u001b[0;34m**\u001b[0m\u001b[0mkwargs\u001b[0m\u001b[0;34m\u001b[0m\u001b[0;34m\u001b[0m\u001b[0m\n\u001b[1;32m    910\u001b[0m                 )\n",
            "\u001b[0;32m/usr/local/lib/python3.11/dist-packages/langchain_google_genai/chat_models.py\u001b[0m in \u001b[0;36m_generate\u001b[0;34m(self, messages, stop, run_manager, tools, functions, safety_settings, tool_config, generation_config, cached_content, tool_choice, **kwargs)\u001b[0m\n\u001b[1;32m    987\u001b[0m             \u001b[0mtool_choice\u001b[0m\u001b[0;34m=\u001b[0m\u001b[0mtool_choice\u001b[0m\u001b[0;34m,\u001b[0m\u001b[0;34m\u001b[0m\u001b[0;34m\u001b[0m\u001b[0m\n\u001b[1;32m    988\u001b[0m         )\n\u001b[0;32m--> 989\u001b[0;31m         response: GenerateContentResponse = _chat_with_retry(\n\u001b[0m\u001b[1;32m    990\u001b[0m             \u001b[0mrequest\u001b[0m\u001b[0;34m=\u001b[0m\u001b[0mrequest\u001b[0m\u001b[0;34m,\u001b[0m\u001b[0;34m\u001b[0m\u001b[0;34m\u001b[0m\u001b[0m\n\u001b[1;32m    991\u001b[0m             \u001b[0;34m**\u001b[0m\u001b[0mkwargs\u001b[0m\u001b[0;34m,\u001b[0m\u001b[0;34m\u001b[0m\u001b[0;34m\u001b[0m\u001b[0m\n",
            "\u001b[0;32m/usr/local/lib/python3.11/dist-packages/langchain_google_genai/chat_models.py\u001b[0m in \u001b[0;36m_chat_with_retry\u001b[0;34m(generation_method, **kwargs)\u001b[0m\n\u001b[1;32m    205\u001b[0m             \u001b[0;32mraise\u001b[0m \u001b[0me\u001b[0m\u001b[0;34m\u001b[0m\u001b[0;34m\u001b[0m\u001b[0m\n\u001b[1;32m    206\u001b[0m \u001b[0;34m\u001b[0m\u001b[0m\n\u001b[0;32m--> 207\u001b[0;31m     \u001b[0;32mreturn\u001b[0m \u001b[0m_chat_with_retry\u001b[0m\u001b[0;34m(\u001b[0m\u001b[0;34m**\u001b[0m\u001b[0mkwargs\u001b[0m\u001b[0;34m)\u001b[0m\u001b[0;34m\u001b[0m\u001b[0;34m\u001b[0m\u001b[0m\n\u001b[0m\u001b[1;32m    208\u001b[0m \u001b[0;34m\u001b[0m\u001b[0m\n\u001b[1;32m    209\u001b[0m \u001b[0;34m\u001b[0m\u001b[0m\n",
            "\u001b[0;32m/usr/local/lib/python3.11/dist-packages/tenacity/__init__.py\u001b[0m in \u001b[0;36mwrapped_f\u001b[0;34m(*args, **kw)\u001b[0m\n\u001b[1;32m    334\u001b[0m             \u001b[0mcopy\u001b[0m \u001b[0;34m=\u001b[0m \u001b[0mself\u001b[0m\u001b[0;34m.\u001b[0m\u001b[0mcopy\u001b[0m\u001b[0;34m(\u001b[0m\u001b[0;34m)\u001b[0m\u001b[0;34m\u001b[0m\u001b[0;34m\u001b[0m\u001b[0m\n\u001b[1;32m    335\u001b[0m             \u001b[0mwrapped_f\u001b[0m\u001b[0;34m.\u001b[0m\u001b[0mstatistics\u001b[0m \u001b[0;34m=\u001b[0m \u001b[0mcopy\u001b[0m\u001b[0;34m.\u001b[0m\u001b[0mstatistics\u001b[0m  \u001b[0;31m# type: ignore[attr-defined]\u001b[0m\u001b[0;34m\u001b[0m\u001b[0;34m\u001b[0m\u001b[0m\n\u001b[0;32m--> 336\u001b[0;31m             \u001b[0;32mreturn\u001b[0m \u001b[0mcopy\u001b[0m\u001b[0;34m(\u001b[0m\u001b[0mf\u001b[0m\u001b[0;34m,\u001b[0m \u001b[0;34m*\u001b[0m\u001b[0margs\u001b[0m\u001b[0;34m,\u001b[0m \u001b[0;34m**\u001b[0m\u001b[0mkw\u001b[0m\u001b[0;34m)\u001b[0m\u001b[0;34m\u001b[0m\u001b[0;34m\u001b[0m\u001b[0m\n\u001b[0m\u001b[1;32m    337\u001b[0m \u001b[0;34m\u001b[0m\u001b[0m\n\u001b[1;32m    338\u001b[0m         \u001b[0;32mdef\u001b[0m \u001b[0mretry_with\u001b[0m\u001b[0;34m(\u001b[0m\u001b[0;34m*\u001b[0m\u001b[0margs\u001b[0m\u001b[0;34m:\u001b[0m \u001b[0mt\u001b[0m\u001b[0;34m.\u001b[0m\u001b[0mAny\u001b[0m\u001b[0;34m,\u001b[0m \u001b[0;34m**\u001b[0m\u001b[0mkwargs\u001b[0m\u001b[0;34m:\u001b[0m \u001b[0mt\u001b[0m\u001b[0;34m.\u001b[0m\u001b[0mAny\u001b[0m\u001b[0;34m)\u001b[0m \u001b[0;34m->\u001b[0m \u001b[0mWrappedFn\u001b[0m\u001b[0;34m:\u001b[0m\u001b[0;34m\u001b[0m\u001b[0;34m\u001b[0m\u001b[0m\n",
            "\u001b[0;32m/usr/local/lib/python3.11/dist-packages/tenacity/__init__.py\u001b[0m in \u001b[0;36m__call__\u001b[0;34m(self, fn, *args, **kwargs)\u001b[0m\n\u001b[1;32m    473\u001b[0m         \u001b[0mretry_state\u001b[0m \u001b[0;34m=\u001b[0m \u001b[0mRetryCallState\u001b[0m\u001b[0;34m(\u001b[0m\u001b[0mretry_object\u001b[0m\u001b[0;34m=\u001b[0m\u001b[0mself\u001b[0m\u001b[0;34m,\u001b[0m \u001b[0mfn\u001b[0m\u001b[0;34m=\u001b[0m\u001b[0mfn\u001b[0m\u001b[0;34m,\u001b[0m \u001b[0margs\u001b[0m\u001b[0;34m=\u001b[0m\u001b[0margs\u001b[0m\u001b[0;34m,\u001b[0m \u001b[0mkwargs\u001b[0m\u001b[0;34m=\u001b[0m\u001b[0mkwargs\u001b[0m\u001b[0;34m)\u001b[0m\u001b[0;34m\u001b[0m\u001b[0;34m\u001b[0m\u001b[0m\n\u001b[1;32m    474\u001b[0m         \u001b[0;32mwhile\u001b[0m \u001b[0;32mTrue\u001b[0m\u001b[0;34m:\u001b[0m\u001b[0;34m\u001b[0m\u001b[0;34m\u001b[0m\u001b[0m\n\u001b[0;32m--> 475\u001b[0;31m             \u001b[0mdo\u001b[0m \u001b[0;34m=\u001b[0m \u001b[0mself\u001b[0m\u001b[0;34m.\u001b[0m\u001b[0miter\u001b[0m\u001b[0;34m(\u001b[0m\u001b[0mretry_state\u001b[0m\u001b[0;34m=\u001b[0m\u001b[0mretry_state\u001b[0m\u001b[0;34m)\u001b[0m\u001b[0;34m\u001b[0m\u001b[0;34m\u001b[0m\u001b[0m\n\u001b[0m\u001b[1;32m    476\u001b[0m             \u001b[0;32mif\u001b[0m \u001b[0misinstance\u001b[0m\u001b[0;34m(\u001b[0m\u001b[0mdo\u001b[0m\u001b[0;34m,\u001b[0m \u001b[0mDoAttempt\u001b[0m\u001b[0;34m)\u001b[0m\u001b[0;34m:\u001b[0m\u001b[0;34m\u001b[0m\u001b[0;34m\u001b[0m\u001b[0m\n\u001b[1;32m    477\u001b[0m                 \u001b[0;32mtry\u001b[0m\u001b[0;34m:\u001b[0m\u001b[0;34m\u001b[0m\u001b[0;34m\u001b[0m\u001b[0m\n",
            "\u001b[0;32m/usr/local/lib/python3.11/dist-packages/tenacity/__init__.py\u001b[0m in \u001b[0;36miter\u001b[0;34m(self, retry_state)\u001b[0m\n\u001b[1;32m    374\u001b[0m         \u001b[0mresult\u001b[0m \u001b[0;34m=\u001b[0m \u001b[0;32mNone\u001b[0m\u001b[0;34m\u001b[0m\u001b[0;34m\u001b[0m\u001b[0m\n\u001b[1;32m    375\u001b[0m         \u001b[0;32mfor\u001b[0m \u001b[0maction\u001b[0m \u001b[0;32min\u001b[0m \u001b[0mself\u001b[0m\u001b[0;34m.\u001b[0m\u001b[0miter_state\u001b[0m\u001b[0;34m.\u001b[0m\u001b[0mactions\u001b[0m\u001b[0;34m:\u001b[0m\u001b[0;34m\u001b[0m\u001b[0;34m\u001b[0m\u001b[0m\n\u001b[0;32m--> 376\u001b[0;31m             \u001b[0mresult\u001b[0m \u001b[0;34m=\u001b[0m \u001b[0maction\u001b[0m\u001b[0;34m(\u001b[0m\u001b[0mretry_state\u001b[0m\u001b[0;34m)\u001b[0m\u001b[0;34m\u001b[0m\u001b[0;34m\u001b[0m\u001b[0m\n\u001b[0m\u001b[1;32m    377\u001b[0m         \u001b[0;32mreturn\u001b[0m \u001b[0mresult\u001b[0m\u001b[0;34m\u001b[0m\u001b[0;34m\u001b[0m\u001b[0m\n\u001b[1;32m    378\u001b[0m \u001b[0;34m\u001b[0m\u001b[0m\n",
            "\u001b[0;32m/usr/local/lib/python3.11/dist-packages/tenacity/__init__.py\u001b[0m in \u001b[0;36m<lambda>\u001b[0;34m(rs)\u001b[0m\n\u001b[1;32m    396\u001b[0m     \u001b[0;32mdef\u001b[0m \u001b[0m_post_retry_check_actions\u001b[0m\u001b[0;34m(\u001b[0m\u001b[0mself\u001b[0m\u001b[0;34m,\u001b[0m \u001b[0mretry_state\u001b[0m\u001b[0;34m:\u001b[0m \u001b[0;34m\"RetryCallState\"\u001b[0m\u001b[0;34m)\u001b[0m \u001b[0;34m->\u001b[0m \u001b[0;32mNone\u001b[0m\u001b[0;34m:\u001b[0m\u001b[0;34m\u001b[0m\u001b[0;34m\u001b[0m\u001b[0m\n\u001b[1;32m    397\u001b[0m         \u001b[0;32mif\u001b[0m \u001b[0;32mnot\u001b[0m \u001b[0;34m(\u001b[0m\u001b[0mself\u001b[0m\u001b[0;34m.\u001b[0m\u001b[0miter_state\u001b[0m\u001b[0;34m.\u001b[0m\u001b[0mis_explicit_retry\u001b[0m \u001b[0;32mor\u001b[0m \u001b[0mself\u001b[0m\u001b[0;34m.\u001b[0m\u001b[0miter_state\u001b[0m\u001b[0;34m.\u001b[0m\u001b[0mretry_run_result\u001b[0m\u001b[0;34m)\u001b[0m\u001b[0;34m:\u001b[0m\u001b[0;34m\u001b[0m\u001b[0;34m\u001b[0m\u001b[0m\n\u001b[0;32m--> 398\u001b[0;31m             \u001b[0mself\u001b[0m\u001b[0;34m.\u001b[0m\u001b[0m_add_action_func\u001b[0m\u001b[0;34m(\u001b[0m\u001b[0;32mlambda\u001b[0m \u001b[0mrs\u001b[0m\u001b[0;34m:\u001b[0m \u001b[0mrs\u001b[0m\u001b[0;34m.\u001b[0m\u001b[0moutcome\u001b[0m\u001b[0;34m.\u001b[0m\u001b[0mresult\u001b[0m\u001b[0;34m(\u001b[0m\u001b[0;34m)\u001b[0m\u001b[0;34m)\u001b[0m\u001b[0;34m\u001b[0m\u001b[0;34m\u001b[0m\u001b[0m\n\u001b[0m\u001b[1;32m    399\u001b[0m             \u001b[0;32mreturn\u001b[0m\u001b[0;34m\u001b[0m\u001b[0;34m\u001b[0m\u001b[0m\n\u001b[1;32m    400\u001b[0m \u001b[0;34m\u001b[0m\u001b[0m\n",
            "\u001b[0;32m/usr/lib/python3.11/concurrent/futures/_base.py\u001b[0m in \u001b[0;36mresult\u001b[0;34m(self, timeout)\u001b[0m\n\u001b[1;32m    447\u001b[0m                     \u001b[0;32mraise\u001b[0m \u001b[0mCancelledError\u001b[0m\u001b[0;34m(\u001b[0m\u001b[0;34m)\u001b[0m\u001b[0;34m\u001b[0m\u001b[0;34m\u001b[0m\u001b[0m\n\u001b[1;32m    448\u001b[0m                 \u001b[0;32melif\u001b[0m \u001b[0mself\u001b[0m\u001b[0;34m.\u001b[0m\u001b[0m_state\u001b[0m \u001b[0;34m==\u001b[0m \u001b[0mFINISHED\u001b[0m\u001b[0;34m:\u001b[0m\u001b[0;34m\u001b[0m\u001b[0;34m\u001b[0m\u001b[0m\n\u001b[0;32m--> 449\u001b[0;31m                     \u001b[0;32mreturn\u001b[0m \u001b[0mself\u001b[0m\u001b[0;34m.\u001b[0m\u001b[0m__get_result\u001b[0m\u001b[0;34m(\u001b[0m\u001b[0;34m)\u001b[0m\u001b[0;34m\u001b[0m\u001b[0;34m\u001b[0m\u001b[0m\n\u001b[0m\u001b[1;32m    450\u001b[0m \u001b[0;34m\u001b[0m\u001b[0m\n\u001b[1;32m    451\u001b[0m                 \u001b[0mself\u001b[0m\u001b[0;34m.\u001b[0m\u001b[0m_condition\u001b[0m\u001b[0;34m.\u001b[0m\u001b[0mwait\u001b[0m\u001b[0;34m(\u001b[0m\u001b[0mtimeout\u001b[0m\u001b[0;34m)\u001b[0m\u001b[0;34m\u001b[0m\u001b[0;34m\u001b[0m\u001b[0m\n",
            "\u001b[0;32m/usr/lib/python3.11/concurrent/futures/_base.py\u001b[0m in \u001b[0;36m__get_result\u001b[0;34m(self)\u001b[0m\n\u001b[1;32m    399\u001b[0m         \u001b[0;32mif\u001b[0m \u001b[0mself\u001b[0m\u001b[0;34m.\u001b[0m\u001b[0m_exception\u001b[0m\u001b[0;34m:\u001b[0m\u001b[0;34m\u001b[0m\u001b[0;34m\u001b[0m\u001b[0m\n\u001b[1;32m    400\u001b[0m             \u001b[0;32mtry\u001b[0m\u001b[0;34m:\u001b[0m\u001b[0;34m\u001b[0m\u001b[0;34m\u001b[0m\u001b[0m\n\u001b[0;32m--> 401\u001b[0;31m                 \u001b[0;32mraise\u001b[0m \u001b[0mself\u001b[0m\u001b[0;34m.\u001b[0m\u001b[0m_exception\u001b[0m\u001b[0;34m\u001b[0m\u001b[0;34m\u001b[0m\u001b[0m\n\u001b[0m\u001b[1;32m    402\u001b[0m             \u001b[0;32mfinally\u001b[0m\u001b[0;34m:\u001b[0m\u001b[0;34m\u001b[0m\u001b[0;34m\u001b[0m\u001b[0m\n\u001b[1;32m    403\u001b[0m                 \u001b[0;31m# Break a reference cycle with the exception in self._exception\u001b[0m\u001b[0;34m\u001b[0m\u001b[0;34m\u001b[0m\u001b[0m\n",
            "\u001b[0;32m/usr/local/lib/python3.11/dist-packages/tenacity/__init__.py\u001b[0m in \u001b[0;36m__call__\u001b[0;34m(self, fn, *args, **kwargs)\u001b[0m\n\u001b[1;32m    476\u001b[0m             \u001b[0;32mif\u001b[0m \u001b[0misinstance\u001b[0m\u001b[0;34m(\u001b[0m\u001b[0mdo\u001b[0m\u001b[0;34m,\u001b[0m \u001b[0mDoAttempt\u001b[0m\u001b[0;34m)\u001b[0m\u001b[0;34m:\u001b[0m\u001b[0;34m\u001b[0m\u001b[0;34m\u001b[0m\u001b[0m\n\u001b[1;32m    477\u001b[0m                 \u001b[0;32mtry\u001b[0m\u001b[0;34m:\u001b[0m\u001b[0;34m\u001b[0m\u001b[0;34m\u001b[0m\u001b[0m\n\u001b[0;32m--> 478\u001b[0;31m                     \u001b[0mresult\u001b[0m \u001b[0;34m=\u001b[0m \u001b[0mfn\u001b[0m\u001b[0;34m(\u001b[0m\u001b[0;34m*\u001b[0m\u001b[0margs\u001b[0m\u001b[0;34m,\u001b[0m \u001b[0;34m**\u001b[0m\u001b[0mkwargs\u001b[0m\u001b[0;34m)\u001b[0m\u001b[0;34m\u001b[0m\u001b[0;34m\u001b[0m\u001b[0m\n\u001b[0m\u001b[1;32m    479\u001b[0m                 \u001b[0;32mexcept\u001b[0m \u001b[0mBaseException\u001b[0m\u001b[0;34m:\u001b[0m  \u001b[0;31m# noqa: B902\u001b[0m\u001b[0;34m\u001b[0m\u001b[0;34m\u001b[0m\u001b[0m\n\u001b[1;32m    480\u001b[0m                     \u001b[0mretry_state\u001b[0m\u001b[0;34m.\u001b[0m\u001b[0mset_exception\u001b[0m\u001b[0;34m(\u001b[0m\u001b[0msys\u001b[0m\u001b[0;34m.\u001b[0m\u001b[0mexc_info\u001b[0m\u001b[0;34m(\u001b[0m\u001b[0;34m)\u001b[0m\u001b[0;34m)\u001b[0m  \u001b[0;31m# type: ignore[arg-type]\u001b[0m\u001b[0;34m\u001b[0m\u001b[0;34m\u001b[0m\u001b[0m\n",
            "\u001b[0;32m/usr/local/lib/python3.11/dist-packages/langchain_google_genai/chat_models.py\u001b[0m in \u001b[0;36m_chat_with_retry\u001b[0;34m(**kwargs)\u001b[0m\n\u001b[1;32m    199\u001b[0m \u001b[0;34m\u001b[0m\u001b[0m\n\u001b[1;32m    200\u001b[0m         \u001b[0;32mexcept\u001b[0m \u001b[0mgoogle\u001b[0m\u001b[0;34m.\u001b[0m\u001b[0mapi_core\u001b[0m\u001b[0;34m.\u001b[0m\u001b[0mexceptions\u001b[0m\u001b[0;34m.\u001b[0m\u001b[0mInvalidArgument\u001b[0m \u001b[0;32mas\u001b[0m \u001b[0me\u001b[0m\u001b[0;34m:\u001b[0m\u001b[0;34m\u001b[0m\u001b[0;34m\u001b[0m\u001b[0m\n\u001b[0;32m--> 201\u001b[0;31m             raise ChatGoogleGenerativeAIError(\n\u001b[0m\u001b[1;32m    202\u001b[0m                 \u001b[0;34mf\"Invalid argument provided to Gemini: {e}\"\u001b[0m\u001b[0;34m\u001b[0m\u001b[0;34m\u001b[0m\u001b[0m\n\u001b[1;32m    203\u001b[0m             ) from e\n",
            "\u001b[0;31mChatGoogleGenerativeAIError\u001b[0m: Invalid argument provided to Gemini: 400 API Key not found. Please pass a valid API key. [reason: \"API_KEY_INVALID\"\ndomain: \"googleapis.com\"\nmetadata {\n  key: \"service\"\n  value: \"generativelanguage.googleapis.com\"\n}\n, locale: \"en-US\"\nmessage: \"API Key not found. Please pass a valid API key.\"\n]"
          ]
        }
      ]
    },
    {
      "cell_type": "code",
      "source": [],
      "metadata": {
        "id": "TktivA3WCJ-a"
      },
      "execution_count": null,
      "outputs": []
    }
  ]
}